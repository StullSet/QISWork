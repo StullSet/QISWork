{
 "cells": [
  {
   "cell_type": "code",
   "execution_count": 1,
   "id": "b2dfa7c6-9fc7-4035-92f0-92e13949a1b4",
   "metadata": {},
   "outputs": [
    {
     "data": {
      "text/latex": [
       "$$\n",
       "\\mathbf{I}=\n",
       "\\begin{bmatrix}\n",
       "1 & 0  \\\\\n",
       " 0 & 1  \\\\\n",
       " \\end{bmatrix}\n",
       "$$"
      ],
      "text/plain": [
       "<IPython.core.display.Latex object>"
      ]
     },
     "metadata": {},
     "output_type": "display_data"
    },
    {
     "data": {
      "text/latex": [
       "$$\n",
       "\\mathbf{X}=\n",
       "\\begin{bmatrix}\n",
       "0 & 1  \\\\\n",
       " 1 & 0  \\\\\n",
       " \\end{bmatrix}\n",
       "$$"
      ],
      "text/plain": [
       "<IPython.core.display.Latex object>"
      ]
     },
     "metadata": {},
     "output_type": "display_data"
    },
    {
     "data": {
      "text/latex": [
       "$$\n",
       "\\mathbf{Y}=\n",
       "\\begin{bmatrix}\n",
       "0 & -i  \\\\\n",
       " i & 0  \\\\\n",
       " \\end{bmatrix}\n",
       "$$"
      ],
      "text/plain": [
       "<IPython.core.display.Latex object>"
      ]
     },
     "metadata": {},
     "output_type": "display_data"
    },
    {
     "data": {
      "text/latex": [
       "$$\n",
       "\\mathbf{Z}=\n",
       "\\begin{bmatrix}\n",
       "1 & 0  \\\\\n",
       " 0 & -1  \\\\\n",
       " \\end{bmatrix}\n",
       "$$"
      ],
      "text/plain": [
       "<IPython.core.display.Latex object>"
      ]
     },
     "metadata": {},
     "output_type": "display_data"
    },
    {
     "data": {
      "text/latex": [
       "$$\n",
       "\\mathbf{X^2}=\n",
       "\\begin{bmatrix}\n",
       "1 & 0  \\\\\n",
       " 0 & 1  \\\\\n",
       " \\end{bmatrix}\n",
       "$$"
      ],
      "text/plain": [
       "<IPython.core.display.Latex object>"
      ]
     },
     "metadata": {},
     "output_type": "display_data"
    },
    {
     "data": {
      "text/latex": [
       "$$\n",
       "\\mathbf{Y^2}=\n",
       "\\begin{bmatrix}\n",
       "1 & 0  \\\\\n",
       " 0 & 1  \\\\\n",
       " \\end{bmatrix}\n",
       "$$"
      ],
      "text/plain": [
       "<IPython.core.display.Latex object>"
      ]
     },
     "metadata": {},
     "output_type": "display_data"
    },
    {
     "data": {
      "text/latex": [
       "$$\n",
       "\\mathbf{Z^2}=\n",
       "\\begin{bmatrix}\n",
       "1 & 0  \\\\\n",
       " 0 & 1  \\\\\n",
       " \\end{bmatrix}\n",
       "$$"
      ],
      "text/plain": [
       "<IPython.core.display.Latex object>"
      ]
     },
     "metadata": {},
     "output_type": "display_data"
    },
    {
     "data": {
      "text/latex": [
       "$\\displaystyle \\text{Identity # 1}$"
      ],
      "text/plain": [
       "<IPython.core.display.Math object>"
      ]
     },
     "metadata": {},
     "output_type": "display_data"
    },
    {
     "data": {
      "text/latex": [
       "$\\displaystyle \\mathbf{X^2}=\\mathbf{I}\\;?\\;\\rightarrow\\;True$"
      ],
      "text/plain": [
       "<IPython.core.display.Math object>"
      ]
     },
     "metadata": {},
     "output_type": "display_data"
    },
    {
     "data": {
      "text/latex": [
       "$\\displaystyle \\mathbf{Y^2}=\\mathbf{I}\\;?\\;\\rightarrow\\;True$"
      ],
      "text/plain": [
       "<IPython.core.display.Math object>"
      ]
     },
     "metadata": {},
     "output_type": "display_data"
    },
    {
     "data": {
      "text/latex": [
       "$\\displaystyle \\mathbf{Z^2}=\\mathbf{I}\\;?\\;\\rightarrow\\;True$"
      ],
      "text/plain": [
       "<IPython.core.display.Math object>"
      ]
     },
     "metadata": {},
     "output_type": "display_data"
    }
   ],
   "source": [
    "# quantum_gates.ipynb\n",
    "\n",
    "# Cell 1 - Identity # 1\n",
    "\n",
    "import numpy as np\n",
    "from IPython.display import Math\n",
    "from qiskit.visualization import array_to_latex\n",
    "\n",
    "# Unitary matrices fro I,X,Y, and Z\n",
    "g_I = np.array([[1, 0], [0, 1]], dtype=complex)\n",
    "g_X = np.array([[0, 1], [1, 0]], dtype=complex)\n",
    "g_Y = np.array([[0, -1j], [1j, 0]], dtype=complex)\n",
    "g_Z = np.array([[1, 0j], [0, -1]], dtype=complex)\n",
    "\n",
    "# Multiply the gates with themselves\n",
    "t1 = np.dot(g_X, g_X)  # X^2\n",
    "t2 = np.dot(g_Y, g_Y)  # Y^2\n",
    "t3 = np.dot(g_Z, g_Z)  # Z^2\n",
    "\n",
    "display(array_to_latex(g_I, prefix=r\"\\mathbf{I}=\"))\n",
    "display(array_to_latex(g_X, prefix=r\"\\mathbf{X}=\"))\n",
    "display(array_to_latex(g_Y, prefix=r\"\\mathbf{Y}=\"))\n",
    "display(array_to_latex(g_Z, prefix=r\"\\mathbf{Z}=\"))\n",
    "\n",
    "display(array_to_latex(t1, prefix=r\"\\mathbf{X^2}=\"))\n",
    "display(array_to_latex(t2, prefix=r\"\\mathbf{Y^2}=\"))\n",
    "display(array_to_latex(t3, prefix=r\"\\mathbf{Z^2}=\"))\n",
    "\n",
    "display(Math(r\"\\text{Identity # 1}\"))\n",
    "# Checking to see if the identity is true in all cases\n",
    "display(\n",
    "    Math(\n",
    "        rf\"\\mathbf{{X^2}}=\\mathbf{{I}}\\;?\\;\" rf\"\\rightarrow\\;{np.isclose(t1,g_I).all()}\"\n",
    "    )\n",
    ")\n",
    "display(\n",
    "    Math(\n",
    "        rf\"\\mathbf{{Y^2}}=\\mathbf{{I}}\\;?\\;\" rf\"\\rightarrow\\;{np.isclose(t2,g_I).all()}\"\n",
    "    )\n",
    ")\n",
    "display(\n",
    "    Math(\n",
    "        rf\"\\mathbf{{Z^2}}=\\mathbf{{I}}\\;?\\;\" rf\"\\rightarrow\\;{np.isclose(t3,g_I).all()}\"\n",
    "    )\n",
    ")"
   ]
  },
  {
   "cell_type": "code",
   "execution_count": 2,
   "id": "c1767e04-f4ea-4037-a46a-dc54cedb16de",
   "metadata": {},
   "outputs": [
    {
     "data": {
      "text/latex": [
       "$$\n",
       "\\mathbf{H}=\n",
       "\\begin{bmatrix}\n",
       "\\tfrac{1}{\\sqrt{2}} & \\tfrac{1}{\\sqrt{2}}  \\\\\n",
       " \\tfrac{1}{\\sqrt{2}} & -\\tfrac{1}{\\sqrt{2}}  \\\\\n",
       " \\end{bmatrix}\n",
       "$$"
      ],
      "text/plain": [
       "<IPython.core.display.Latex object>"
      ]
     },
     "metadata": {},
     "output_type": "display_data"
    },
    {
     "data": {
      "text/latex": [
       "$$\n",
       "\\mathbf{\\frac{1}{\\sqrt{2}}(X+Z)}=\n",
       "\\begin{bmatrix}\n",
       "\\tfrac{1}{\\sqrt{2}} & \\tfrac{1}{\\sqrt{2}}  \\\\\n",
       " \\tfrac{1}{\\sqrt{2}} & -\\tfrac{1}{\\sqrt{2}}  \\\\\n",
       " \\end{bmatrix}\n",
       "$$"
      ],
      "text/plain": [
       "<IPython.core.display.Latex object>"
      ]
     },
     "metadata": {},
     "output_type": "display_data"
    },
    {
     "data": {
      "text/latex": [
       "$\\displaystyle \\text{Identity # 2}$"
      ],
      "text/plain": [
       "<IPython.core.display.Math object>"
      ]
     },
     "metadata": {},
     "output_type": "display_data"
    },
    {
     "data": {
      "text/latex": [
       "$\\displaystyle \\mathbf{H}=\\mathbf{\\frac{1}{\\sqrt{2}}(X+Z)}\\;?\\;\\rightarrow\\;True$"
      ],
      "text/plain": [
       "<IPython.core.display.Math object>"
      ]
     },
     "metadata": {},
     "output_type": "display_data"
    }
   ],
   "source": [
    "# Cell 2 - Identity # 2\n",
    "\n",
    "g_H = (1 / np.sqrt(2)) * np.array([[1, 1], [1, -1]], dtype=complex)\n",
    "\n",
    "t1 = g_H\n",
    "t2 = 1 / np.sqrt(2) * (g_X + g_Z)\n",
    "\n",
    "display(array_to_latex(t1, prefix=r\"\\mathbf{H}=\"))\n",
    "display(array_to_latex(t2, prefix=r\"\\mathbf{\\frac{1}{\\sqrt{2}}(X+Z)}=\"))\n",
    "\n",
    "display(Math(r\"\\text{Identity # 2}\"))\n",
    "display(\n",
    "    Math(\n",
    "        rf\"\\mathbf{{H}}=\\mathbf{{\\frac{{1}}{{\\sqrt{{2}}}}(X+Z)}}\\;?\\;\"\n",
    "        rf\"\\rightarrow\\;{np.isclose(t1,t2).all()}\"\n",
    "    )\n",
    ")"
   ]
  },
  {
   "cell_type": "code",
   "execution_count": 3,
   "id": "b7aeffd0-3d7a-4950-a1e7-5b0ac960385c",
   "metadata": {},
   "outputs": [
    {
     "data": {
      "text/latex": [
       "$$\n",
       "\\mathbf{X}=\n",
       "\\begin{bmatrix}\n",
       "0 & 1  \\\\\n",
       " 1 & 0  \\\\\n",
       " \\end{bmatrix}\n",
       "$$"
      ],
      "text/plain": [
       "<IPython.core.display.Latex object>"
      ]
     },
     "metadata": {},
     "output_type": "display_data"
    },
    {
     "data": {
      "text/latex": [
       "$$\n",
       "\\mathbf{HZH}=\n",
       "\\begin{bmatrix}\n",
       "0 & 1  \\\\\n",
       " 1 & 0  \\\\\n",
       " \\end{bmatrix}\n",
       "$$"
      ],
      "text/plain": [
       "<IPython.core.display.Latex object>"
      ]
     },
     "metadata": {},
     "output_type": "display_data"
    },
    {
     "data": {
      "text/latex": [
       "$\\displaystyle \\text{Identity # 3}$"
      ],
      "text/plain": [
       "<IPython.core.display.Math object>"
      ]
     },
     "metadata": {},
     "output_type": "display_data"
    },
    {
     "data": {
      "text/latex": [
       "$\\displaystyle \\mathbf{X}=\\mathbf{HZH}\\;?\\;\\rightarrow\\;True$"
      ],
      "text/plain": [
       "<IPython.core.display.Math object>"
      ]
     },
     "metadata": {},
     "output_type": "display_data"
    }
   ],
   "source": [
    "# Cell 3 - Identity # 3\n",
    "\n",
    "t1 = g_X\n",
    "t2 = np.dot(g_H, np.dot(g_Z, g_H))\n",
    "\n",
    "display(array_to_latex(t1, prefix=r\"\\mathbf{X}=\"))\n",
    "display(array_to_latex(t2, prefix=r\"\\mathbf{HZH}=\"))\n",
    "\n",
    "display(Math(r\"\\text{Identity # 3}\"))\n",
    "display(\n",
    "    Math(\n",
    "        rf\"\\mathbf{{X}}=\\mathbf{{HZH}}\\;?\\;\" rf\"\\rightarrow\\;{np.isclose(t1,t2).all()}\"\n",
    "    )\n",
    ")"
   ]
  },
  {
   "cell_type": "code",
   "execution_count": 4,
   "id": "f1faf847-9246-4712-924b-97b8bbedd968",
   "metadata": {},
   "outputs": [
    {
     "data": {
      "text/latex": [
       "$$\n",
       "\\mathbf{Z}=\n",
       "\\begin{bmatrix}\n",
       "1 & 0  \\\\\n",
       " 0 & -1  \\\\\n",
       " \\end{bmatrix}\n",
       "$$"
      ],
      "text/plain": [
       "<IPython.core.display.Latex object>"
      ]
     },
     "metadata": {},
     "output_type": "display_data"
    },
    {
     "data": {
      "text/latex": [
       "$$\n",
       "\\mathbf{HXH}=\n",
       "\\begin{bmatrix}\n",
       "1 & 0  \\\\\n",
       " 0 & -1  \\\\\n",
       " \\end{bmatrix}\n",
       "$$"
      ],
      "text/plain": [
       "<IPython.core.display.Latex object>"
      ]
     },
     "metadata": {},
     "output_type": "display_data"
    },
    {
     "data": {
      "text/latex": [
       "$\\displaystyle \\text{Identity # 4}$"
      ],
      "text/plain": [
       "<IPython.core.display.Math object>"
      ]
     },
     "metadata": {},
     "output_type": "display_data"
    },
    {
     "data": {
      "text/latex": [
       "$\\displaystyle \\mathbf{Z}=\\mathbf{HXH}\\;?\\;\\rightarrow\\;True$"
      ],
      "text/plain": [
       "<IPython.core.display.Math object>"
      ]
     },
     "metadata": {},
     "output_type": "display_data"
    }
   ],
   "source": [
    "# Cell 4 - Identity # 4\n",
    "\n",
    "t1 = g_Z\n",
    "t2 = np.dot(g_H, np.dot(g_X, g_H))\n",
    "\n",
    "display(array_to_latex(t1, prefix=r\"\\mathbf{Z}=\"))\n",
    "display(array_to_latex(t2, prefix=r\"\\mathbf{HXH}=\"))\n",
    "\n",
    "display(Math(r\"\\text{Identity # 4}\"))\n",
    "display(\n",
    "    Math(\n",
    "        rf\"\\mathbf{{Z}}=\\mathbf{{HXH}}\\;?\\;\" rf\"\\rightarrow\\;{np.isclose(t1,t2).all()}\"\n",
    "    )\n",
    ")"
   ]
  },
  {
   "cell_type": "code",
   "execution_count": 5,
   "id": "a49ec78f-dd81-4d43-abc5-b1eaaae94903",
   "metadata": {},
   "outputs": [
    {
     "data": {
      "text/latex": [
       "$$\n",
       "\\mathbf{-1Y}=\n",
       "\\begin{bmatrix}\n",
       "0 & i  \\\\\n",
       " -i & 0  \\\\\n",
       " \\end{bmatrix}\n",
       "$$"
      ],
      "text/plain": [
       "<IPython.core.display.Latex object>"
      ]
     },
     "metadata": {},
     "output_type": "display_data"
    },
    {
     "data": {
      "text/latex": [
       "$$\n",
       "\\mathbf{HYH}=\n",
       "\\begin{bmatrix}\n",
       "0 & i  \\\\\n",
       " -i & 0  \\\\\n",
       " \\end{bmatrix}\n",
       "$$"
      ],
      "text/plain": [
       "<IPython.core.display.Latex object>"
      ]
     },
     "metadata": {},
     "output_type": "display_data"
    },
    {
     "data": {
      "text/latex": [
       "$\\displaystyle \\text{Identity # 5}$"
      ],
      "text/plain": [
       "<IPython.core.display.Math object>"
      ]
     },
     "metadata": {},
     "output_type": "display_data"
    },
    {
     "data": {
      "text/latex": [
       "$\\displaystyle \\mathbf{-1Y}=\\mathbf{HYH}\\;?\\;\\rightarrow\\;True$"
      ],
      "text/plain": [
       "<IPython.core.display.Math object>"
      ]
     },
     "metadata": {},
     "output_type": "display_data"
    }
   ],
   "source": [
    "# Cell 5 - Identity # 5\n",
    "\n",
    "t1 = -1 * g_Y\n",
    "t2 = np.dot(g_H, np.dot(g_Y, g_H))\n",
    "\n",
    "display(array_to_latex(t1, prefix=r\"\\mathbf{-1Y}=\"))\n",
    "display(array_to_latex(t2, prefix=r\"\\mathbf{HYH}=\"))\n",
    "\n",
    "display(Math(r\"\\text{Identity # 5}\"))\n",
    "display(\n",
    "    Math(\n",
    "        rf\"\\mathbf{{-1Y}}=\\mathbf{{HYH}}\\;?\\;\"\n",
    "        rf\"\\rightarrow\\;{np.isclose(t1,t2).all()}\"\n",
    "    )\n",
    ")"
   ]
  },
  {
   "cell_type": "code",
   "execution_count": 6,
   "id": "e07495c1-d5a0-4c3f-aa29-9348e7359562",
   "metadata": {},
   "outputs": [
    {
     "data": {
      "text/latex": [
       "$$\n",
       "\\mathbf{S}=\n",
       "\\begin{bmatrix}\n",
       "1 & 0  \\\\\n",
       " 0 & i  \\\\\n",
       " \\end{bmatrix}\n",
       "$$"
      ],
      "text/plain": [
       "<IPython.core.display.Latex object>"
      ]
     },
     "metadata": {},
     "output_type": "display_data"
    },
    {
     "data": {
      "text/latex": [
       "$$\n",
       "\\mathbf{T}=\n",
       "\\begin{bmatrix}\n",
       "1 & 0  \\\\\n",
       " 0 & \\tfrac{1}{\\sqrt{2}}(1 + i)  \\\\\n",
       " \\end{bmatrix}\n",
       "$$"
      ],
      "text/plain": [
       "<IPython.core.display.Latex object>"
      ]
     },
     "metadata": {},
     "output_type": "display_data"
    },
    {
     "data": {
      "text/latex": [
       "$$\n",
       "\\mathbf{S}=\n",
       "\\begin{bmatrix}\n",
       "1 & 0  \\\\\n",
       " 0 & i  \\\\\n",
       " \\end{bmatrix}\n",
       "$$"
      ],
      "text/plain": [
       "<IPython.core.display.Latex object>"
      ]
     },
     "metadata": {},
     "output_type": "display_data"
    },
    {
     "data": {
      "text/latex": [
       "$$\n",
       "\\mathbf{T^2}=\n",
       "\\begin{bmatrix}\n",
       "1 & 0  \\\\\n",
       " 0 & i  \\\\\n",
       " \\end{bmatrix}\n",
       "$$"
      ],
      "text/plain": [
       "<IPython.core.display.Latex object>"
      ]
     },
     "metadata": {},
     "output_type": "display_data"
    },
    {
     "data": {
      "text/latex": [
       "$\\displaystyle \\text{Identity # 6}$"
      ],
      "text/plain": [
       "<IPython.core.display.Math object>"
      ]
     },
     "metadata": {},
     "output_type": "display_data"
    },
    {
     "data": {
      "text/latex": [
       "$\\displaystyle \\mathbf{S}=\\mathbf{T^2}\\;?\\;\\rightarrow\\;True$"
      ],
      "text/plain": [
       "<IPython.core.display.Math object>"
      ]
     },
     "metadata": {},
     "output_type": "display_data"
    }
   ],
   "source": [
    "# Cell 6 - Identity # 6\n",
    "\n",
    "g_S = np.array([[1, 0j], [0, 1j]], dtype=complex)\n",
    "g_T = np.array([[1, 0j], [0, np.exp(1j * np.pi / 4)]], dtype=complex)\n",
    "\n",
    "t1 = g_S\n",
    "t2 = np.dot(g_T, g_T)\n",
    "\n",
    "display(array_to_latex(g_S, prefix=r\"\\mathbf{S}=\"))\n",
    "display(array_to_latex(g_T, prefix=r\"\\mathbf{T}=\"))\n",
    "\n",
    "display(array_to_latex(t1, prefix=r\"\\mathbf{S}=\"))\n",
    "display(array_to_latex(t2, prefix=r\"\\mathbf{T^2}=\"))\n",
    "\n",
    "display(Math(r\"\\text{Identity # 6}\"))\n",
    "display(\n",
    "    Math(\n",
    "        rf\"\\mathbf{{S}}=\\mathbf{{T^2}}\\;?\\;\" rf\"\\rightarrow\\;{np.isclose(t1,t2).all()}\"\n",
    "    )\n",
    ")"
   ]
  },
  {
   "cell_type": "code",
   "execution_count": 7,
   "id": "fe676b13-92f6-4890-b87a-bc4a80901385",
   "metadata": {},
   "outputs": [
    {
     "data": {
      "text/latex": [
       "$$\n",
       "\\mathbf{-1Y}=\n",
       "\\begin{bmatrix}\n",
       "0 & i  \\\\\n",
       " -i & 0  \\\\\n",
       " \\end{bmatrix}\n",
       "$$"
      ],
      "text/plain": [
       "<IPython.core.display.Latex object>"
      ]
     },
     "metadata": {},
     "output_type": "display_data"
    },
    {
     "data": {
      "text/latex": [
       "$$\n",
       "\\mathbf{XYX}=\n",
       "\\begin{bmatrix}\n",
       "0 & i  \\\\\n",
       " -i & 0  \\\\\n",
       " \\end{bmatrix}\n",
       "$$"
      ],
      "text/plain": [
       "<IPython.core.display.Latex object>"
      ]
     },
     "metadata": {},
     "output_type": "display_data"
    },
    {
     "data": {
      "text/latex": [
       "$\\displaystyle \\text{Identity # 7}$"
      ],
      "text/plain": [
       "<IPython.core.display.Math object>"
      ]
     },
     "metadata": {},
     "output_type": "display_data"
    },
    {
     "data": {
      "text/latex": [
       "$\\displaystyle \\mathbf{-1Y}=\\mathbf{XYX}\\;?\\;\\rightarrow\\;True$"
      ],
      "text/plain": [
       "<IPython.core.display.Math object>"
      ]
     },
     "metadata": {},
     "output_type": "display_data"
    }
   ],
   "source": [
    "# Cell 7 - Identity # 7\n",
    "\n",
    "t1 = -1 * g_Y\n",
    "t2 = np.dot(g_X, np.dot(g_Y, g_X))\n",
    "\n",
    "display(array_to_latex(t1, prefix=r\"\\mathbf{-1Y}=\"))\n",
    "display(array_to_latex(t2, prefix=r\"\\mathbf{XYX}=\"))\n",
    "\n",
    "display(Math(r\"\\text{Identity # 7}\"))\n",
    "display(\n",
    "    Math(\n",
    "        rf\"\\mathbf{{-1Y}}=\\mathbf{{XYX}}\\;?\\;\"\n",
    "        rf\"\\rightarrow\\;{np.isclose(t1,t2).all()}\"\n",
    "    )\n",
    ")"
   ]
  },
  {
   "cell_type": "code",
   "execution_count": null,
   "id": "dd6c40e7-3bf6-4ecd-96b9-058d988415c9",
   "metadata": {},
   "outputs": [],
   "source": []
  }
 ],
 "metadata": {
  "kernelspec": {
   "display_name": "Python 3 (ipykernel)",
   "language": "python",
   "name": "python3"
  },
  "language_info": {
   "codemirror_mode": {
    "name": "ipython",
    "version": 3
   },
   "file_extension": ".py",
   "mimetype": "text/x-python",
   "name": "python",
   "nbconvert_exporter": "python",
   "pygments_lexer": "ipython3",
   "version": "3.10.4"
  }
 },
 "nbformat": 4,
 "nbformat_minor": 5
}
