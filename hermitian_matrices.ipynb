{
 "cells": [
  {
   "cell_type": "code",
   "execution_count": 4,
   "id": "379d4bf5-b19d-4025-aca4-27ed2c529bd9",
   "metadata": {},
   "outputs": [
    {
     "data": {
      "text/latex": [
       "$\\displaystyle \\mathbf{A=A^\\dagger}\\;?\\;$$\\rightarrow$$\\;True$"
      ],
      "text/plain": [
       "<IPython.core.display.Math object>"
      ]
     },
     "metadata": {},
     "output_type": "display_data"
    },
    {
     "data": {
      "text/latex": [
       "$\\displaystyle \\mathbf{A^{-1}=(A^{-1})^\\dagger}\\;?\\;$$\\rightarrow$$\\;True$"
      ],
      "text/plain": [
       "<IPython.core.display.Math object>"
      ]
     },
     "metadata": {},
     "output_type": "display_data"
    }
   ],
   "source": [
    "# hermitian_matricies.ipynb\n",
    "# Cell 1\n",
    "\n",
    "import numpy as np\n",
    "from IPython.display import Math\n",
    "from qiskit.visualization import array_to_latex\n",
    "\n",
    "def main():\n",
    "    # Defining a Hermitian Matrix\n",
    "    hermit_matrix = np.array([[5, 4+5j, 6-16j], [4-5j, 13, 7], [6+16j, 7, 2.1]])\n",
    "    # Taking the complex transpose\n",
    "    comp_T = hermit_matrix.conj().T\n",
    "    \n",
    "    # Inverting the Hermitian Matrix\n",
    "    inv_hermit = np.linalg.inv(hermit_matrix)\n",
    "    # Taking the complex transpose\n",
    "    inv_comp_T = inv_hermit.conj().T\n",
    "    \n",
    "    # Printing out results to check if true\n",
    "    display(Math(rf\"\\mathbf{{A=A^\\dagger}}\"\n",
    "                 rf\"\\;?\\;$$\\rightarrow$$\\;{np.isclose(hermit_matrix, comp_T).all()}\"))\n",
    "    \n",
    "    display(Math(rf\"\\mathbf{{A^{{-1}}=(A^{{-1}})^\\dagger}}\"\n",
    "                 rf\"\\;?\\;$$\\rightarrow$$\\;{np.isclose(inv_hermit, inv_comp_T).all()}\"))\n",
    "    \n",
    "main()"
   ]
  },
  {
   "cell_type": "code",
   "execution_count": 10,
   "id": "31cc50b0-5f3f-4e28-85cd-8a97ec1f2f2b",
   "metadata": {},
   "outputs": [
    {
     "data": {
      "text/latex": [
       "$\\displaystyle \\mathbf{A=A^\\dagger}\\;?\\;$$\\rightarrow$$\\;True$"
      ],
      "text/plain": [
       "<IPython.core.display.Math object>"
      ]
     },
     "metadata": {},
     "output_type": "display_data"
    },
    {
     "data": {
      "text/latex": [
       "$\\displaystyle \\mathbf{A^5=(A^5)^\\dagger}\\;?\\;$$\\rightarrow$$\\;True$"
      ],
      "text/plain": [
       "<IPython.core.display.Math object>"
      ]
     },
     "metadata": {},
     "output_type": "display_data"
    }
   ],
   "source": [
    "# Cell 2\n",
    "\n",
    "def exp_hermit():\n",
    "    hermit_matrix = np.array([[5, 4+5j, 6-16j], [4-5j, 13, 7], [6+16j, 7, 2.1]])\n",
    "    comp_T = hermit_matrix.conj().T\n",
    "    \n",
    "    power = 5\n",
    "    # Defining a Hermitian MAtrix raised to a power\n",
    "    power_hermit = np.power(hermit_matrix, power)\n",
    "    # Taking the complex transpose\n",
    "    ct_power_hermit = power_hermit.conj().T\n",
    "    \n",
    "    # Printing out results to check if true\n",
    "    display(Math(rf\"\\mathbf{{A=A^\\dagger}}\"\n",
    "                 rf\"\\;?\\;$$\\rightarrow$$\\;{np.isclose(hermit_matrix, comp_T).all()}\"))\n",
    "    \n",
    "    display(Math(rf\"\\mathbf{{A^{power}=(A^{power})^\\dagger}}\"\n",
    "                 rf\"\\;?\\;$$\\rightarrow$$\\;{np.isclose(power_hermit, ct_power_hermit).all()}\"))\n",
    "    \n",
    "exp_hermit()"
   ]
  },
  {
   "cell_type": "code",
   "execution_count": null,
   "id": "7c36adf2-91f5-461b-a736-1cbb0befcd6e",
   "metadata": {},
   "outputs": [],
   "source": []
  }
 ],
 "metadata": {
  "kernelspec": {
   "display_name": "Python 3 (ipykernel)",
   "language": "python",
   "name": "python3"
  },
  "language_info": {
   "codemirror_mode": {
    "name": "ipython",
    "version": 3
   },
   "file_extension": ".py",
   "mimetype": "text/x-python",
   "name": "python",
   "nbconvert_exporter": "python",
   "pygments_lexer": "ipython3",
   "version": "3.10.4"
  }
 },
 "nbformat": 4,
 "nbformat_minor": 5
}
