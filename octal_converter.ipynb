{
 "cells": [
  {
   "cell_type": "code",
   "execution_count": 3,
   "id": "4bdfc4d4-fd32-4a27-986d-f94f41d037e9",
   "metadata": {},
   "outputs": [
    {
     "name": "stdout",
     "output_type": "stream",
     "text": [
      "2323 in octal = 1,235 in decimal\n"
     ]
    }
   ],
   "source": [
    "# octal_converter.ipynb\n",
    "\n",
    "# Cell 1 - Convert the octal number 2323 to base 10 (decimal) by looping\n",
    "\n",
    "import numpy as np\n",
    "\n",
    "def octal_to_decimal(o):\n",
    "    # Reverse string 'o' because the\n",
    "    # LSB must be in first position\n",
    "    o = o[::-1]\n",
    "    sum = 0\n",
    "    # For every character in the string\n",
    "    for position in range(len(o)):\n",
    "        # Raising 2 to the power of the len value at that character\n",
    "        weight = pow(8, position)\n",
    "        # Converting that character to an integer\n",
    "        digit = int(o[position])\n",
    "        # Converting to base 10 and adding to the sum\n",
    "        sum += digit * weight\n",
    "    return sum\n",
    "\n",
    "\n",
    "o = \"2323\"\n",
    "d = octal_to_decimal(o)\n",
    "print(f\"{o} in octal = {d:,} in decimal\")"
   ]
  },
  {
   "cell_type": "code",
   "execution_count": 4,
   "id": "0742bcdf-3bef-44fd-b68a-467875ed9885",
   "metadata": {},
   "outputs": [
    {
     "name": "stdout",
     "output_type": "stream",
     "text": [
      "1,235 in decimal = 2323 in octal\n"
     ]
    }
   ],
   "source": [
    "# Cell 2 - Convert the decimal number you calculated in cell 1 back to octal by looping\n",
    "\n",
    "def decimal_to_octal(d):\n",
    "    o = \"\"\n",
    "    # Converting from base 10 to base 8\n",
    "    while d > 0:\n",
    "        # See slides for explanation\n",
    "        # However, done this in a task before\n",
    "        o += str(d % 8)\n",
    "        d = int(d / 8)\n",
    "    # Reverse string 'o' because the\n",
    "    # LSB must be in first position\n",
    "    o = o[::-1]\n",
    "    return o\n",
    "\n",
    "\n",
    "d = 1235\n",
    "o = decimal_to_octal(d)\n",
    "print(f\"{d:,} in decimal = {o} in octal\")"
   ]
  },
  {
   "cell_type": "code",
   "execution_count": 5,
   "id": "3318f5a7-03b4-4b78-9232-b785ac862b7c",
   "metadata": {},
   "outputs": [
    {
     "name": "stdout",
     "output_type": "stream",
     "text": [
      "2323 in octal = 1,235 in decimal\n"
     ]
    }
   ],
   "source": [
    "# Cell 3 - Convert the octal number 2323 to base 10 (decimal) without looping\n",
    "\n",
    "o = \"2323\"\n",
    "d = int(b, 8)\n",
    "print(f\"{o} in octal = {d:,} in decimal\")"
   ]
  },
  {
   "cell_type": "code",
   "execution_count": 6,
   "id": "058ef09f-6089-433f-ba0c-f53ad01efc1c",
   "metadata": {},
   "outputs": [
    {
     "name": "stdout",
     "output_type": "stream",
     "text": [
      "1,235 in decimal = 2323 in octal\n"
     ]
    }
   ],
   "source": [
    "# Cell 4 - Convert the decimal number you calculated in cell 3 back to octal without looping\n",
    "\n",
    "d = 1235\n",
    "o = np.base_repr(d, base=8)\n",
    "print(f\"{d:,} in decimal = {o} in octal\")"
   ]
  },
  {
   "cell_type": "code",
   "execution_count": null,
   "id": "c5da1e50-6fde-4900-bb28-e4bb2c08d800",
   "metadata": {},
   "outputs": [],
   "source": []
  }
 ],
 "metadata": {
  "kernelspec": {
   "display_name": "Python 3 (ipykernel)",
   "language": "python",
   "name": "python3"
  },
  "language_info": {
   "codemirror_mode": {
    "name": "ipython",
    "version": 3
   },
   "file_extension": ".py",
   "mimetype": "text/x-python",
   "name": "python",
   "nbconvert_exporter": "python",
   "pygments_lexer": "ipython3",
   "version": "3.10.4"
  }
 },
 "nbformat": 4,
 "nbformat_minor": 5
}
