{
 "cells": [
  {
   "cell_type": "code",
   "execution_count": 14,
   "id": "2a6741d1-ba21-49eb-ba81-575238ccb6dc",
   "metadata": {},
   "outputs": [
    {
     "data": {
      "text/latex": [
       "$$\n",
       "\\mathbf{v}=\n",
       "\\begin{bmatrix}\n",
       "7 - 2i & 4i & 11 + 6i & -15  \\\\\n",
       " \\end{bmatrix}\n",
       "$$"
      ],
      "text/plain": [
       "<IPython.core.display.Latex object>"
      ]
     },
     "metadata": {},
     "output_type": "display_data"
    },
    {
     "data": {
      "text/latex": [
       "$\\displaystyle \\langle\\mathbf{v,v}\\rangle=(451+0j)$"
      ],
      "text/plain": [
       "<IPython.core.display.Math object>"
      ]
     },
     "metadata": {},
     "output_type": "display_data"
    },
    {
     "data": {
      "text/latex": [
       "$\\displaystyle \\|\\mathbf{v}\\|^2=\\color{red}{451.00000000000006}$"
      ],
      "text/plain": [
       "<IPython.core.display.Math object>"
      ]
     },
     "metadata": {},
     "output_type": "display_data"
    },
    {
     "data": {
      "text/latex": [
       "$\\displaystyle \\langle\\mathbf{v,v}\\rangle=\\|\\mathbf{v}\\|^2\\;?\\;$$\\rightarrow$$\\;True$"
      ],
      "text/plain": [
       "<IPython.core.display.Math object>"
      ]
     },
     "metadata": {},
     "output_type": "display_data"
    }
   ],
   "source": [
    "# complex_matrices.ipynb\n",
    "# Cell 1\n",
    "\n",
    "import numpy as np\n",
    "from IPython.display import Math\n",
    "from qiskit.visualization import array_to_latex\n",
    "\n",
    "# The inner product of a vector with itself is its squared norm\n",
    "\n",
    "v = np.complex128([7 - 2j, 4j, 11 + 6j, -15])\n",
    "\n",
    "# v.conj().T takes the conjugate transpose of the matrix or vector v\n",
    "t1 = np.dot(v.conj().T, v)\n",
    "# np.linalg.norm() simply takes the norm\n",
    "t2 = np.linalg.norm(v) ** 2\n",
    "\n",
    "display(array_to_latex(v, prefix=\"\\mathbf{v}=\"))\n",
    "\n",
    "display(Math(rf\"\\langle\\mathbf{{v,v}}\\rangle={t1}\"))\n",
    "display(Math(rf\"\\|\\mathbf{{v}}\\|^2=\\color{{red}}{{{t2}}}\"))\n",
    "\n",
    "# We use np.isclose() to accomodate the roundoff error\n",
    "display(\n",
    "    Math(\n",
    "        rf\"\\langle\\mathbf{{v,v}}\\rangle=\\|\\mathbf{{v}}\\|^2\"\n",
    "        rf\"\\;?\\;$$\\rightarrow$$\\;{np.isclose(t1,t2)}\"\n",
    "    )\n",
    ")"
   ]
  },
  {
   "cell_type": "code",
   "execution_count": 15,
   "id": "005f22bf-f7b7-437d-b9ab-09bde97072d5",
   "metadata": {},
   "outputs": [
    {
     "data": {
      "text/latex": [
       "$\\displaystyle \\langle\\mathbf{v,v}\\rangle=(451+0j)$"
      ],
      "text/plain": [
       "<IPython.core.display.Math object>"
      ]
     },
     "metadata": {},
     "output_type": "display_data"
    },
    {
     "data": {
      "text/latex": [
       "$\\displaystyle \\overline{\\langle\\mathbf{v,v}\\rangle}=\\color{red}{(451-0j)}$"
      ],
      "text/plain": [
       "<IPython.core.display.Math object>"
      ]
     },
     "metadata": {},
     "output_type": "display_data"
    },
    {
     "data": {
      "text/latex": [
       "$\\displaystyle \\langle\\mathbf{v,v}\\rangle=\\overline{\\langle\\mathbf{v,v}\\rangle}\\;?\\;$$\\rightarrow$$\\;True$"
      ],
      "text/plain": [
       "<IPython.core.display.Math object>"
      ]
     },
     "metadata": {},
     "output_type": "display_data"
    }
   ],
   "source": [
    "# Cell 2\n",
    "\n",
    "# An inner product is equal to its own conjugate\n",
    "\n",
    "t1 = np.dot(v.conj(), v)\n",
    "t2 = np.dot(v.conj(), v).conj()\n",
    "\n",
    "display(Math(rf\"\\langle\\mathbf{{v,v}}\\rangle={np.round(t1,5)}\"))\n",
    "display(\n",
    "    Math(\n",
    "        rf\"\\overline{{\\langle\\mathbf{{v,v}}\\rangle}}=\"\n",
    "        rf\"\\color{{red}}{{{np.round(t2,5)}}}\"\n",
    "    )\n",
    ")\n",
    "\n",
    "display(\n",
    "    Math(\n",
    "        rf\"\\langle\\mathbf{{v,v}}\\rangle=\"\n",
    "        rf\"\\overline{{\\langle\\mathbf{{v,v}}\\rangle}}\"\n",
    "        rf\"\\;?\\;$$\\rightarrow$$\\;{np.isclose(t1,t2)}\"\n",
    "    )\n",
    ")"
   ]
  },
  {
   "cell_type": "code",
   "execution_count": 16,
   "id": "85ae06dc-46b6-4fea-b07b-f26124801874",
   "metadata": {},
   "outputs": [
    {
     "data": {
      "text/latex": [
       "$$\n",
       "\\mathbf{A}=\n",
       "\\begin{bmatrix}\n",
       "5 & 4 + 5i & 6 - 16i  \\\\\n",
       " 4 - 5i & 13 & 7  \\\\\n",
       " 6 + 16i & 7 & 2.1  \\\\\n",
       " \\end{bmatrix}\n",
       "$$"
      ],
      "text/plain": [
       "<IPython.core.display.Latex object>"
      ]
     },
     "metadata": {},
     "output_type": "display_data"
    },
    {
     "data": {
      "text/latex": [
       "$$\n",
       "\\mathbf{B}=\n",
       "\\begin{bmatrix}\n",
       "5.664 - 3.623i & 7.672 - 4.47i & 1.864 - 7.149i  \\\\\n",
       " 0.766 - 4.821i & 4.413 - 0.228i & 9.759 + 4.256i  \\\\\n",
       " 1.0335 - 3.672i & 3.89 - 5.741i & 7.76 + 3.812i  \\\\\n",
       " \\end{bmatrix}\n",
       "$$"
      ],
      "text/plain": [
       "<IPython.core.display.Latex object>"
      ]
     },
     "metadata": {},
     "output_type": "display_data"
    },
    {
     "data": {
      "text/latex": [
       "$$\n",
       "\\mathbf{(A+B)^\\dagger}=\n",
       "\\begin{bmatrix}\n",
       "10.664 + 3.623i & 4.766 + 9.821i & 7.0335 - 12.328i  \\\\\n",
       " 11.672 - 0.53i & 17.413 + 0.228i & 10.89 + 5.741i  \\\\\n",
       " 7.864 + 23.149i & 16.759 - 4.256i & 9.86 - 3.812i  \\\\\n",
       " \\end{bmatrix}\n",
       "$$"
      ],
      "text/plain": [
       "<IPython.core.display.Latex object>"
      ]
     },
     "metadata": {},
     "output_type": "display_data"
    },
    {
     "data": {
      "text/latex": [
       "$$\n",
       "\\mathbf{A^\\dagger+B^\\dagger}=\n",
       "\\begin{bmatrix}\n",
       "10.664 + 3.623i & 4.766 + 9.821i & 7.0335 - 12.328i  \\\\\n",
       " 11.672 - 0.53i & 17.413 + 0.228i & 10.89 + 5.741i  \\\\\n",
       " 7.864 + 23.149i & 16.759 - 4.256i & 9.86 - 3.812i  \\\\\n",
       " \\end{bmatrix}\n",
       "$$"
      ],
      "text/plain": [
       "<IPython.core.display.Latex object>"
      ]
     },
     "metadata": {},
     "output_type": "display_data"
    },
    {
     "data": {
      "text/latex": [
       "$\\displaystyle \\mathbf{(A+B)^\\dagger=A^\\dagger+B^\\dagger}\\;?\\;$$\\rightarrow$$\\;True$"
      ],
      "text/plain": [
       "<IPython.core.display.Math object>"
      ]
     },
     "metadata": {},
     "output_type": "display_data"
    }
   ],
   "source": [
    "# Cell 3\n",
    "\n",
    "# The adjoint (dagger) operator is distributive across matrix addition\n",
    "# See slide 73 for additional help if needed\n",
    "\n",
    "a = np.array([[5, 4 + 5j, 6 - 16j], [4 - 5j, 13, 7], [6 + 16j, 7, 2.1]])\n",
    "\n",
    "b = np.array(\n",
    "    [\n",
    "        [5.664 - 3.623j, 7.672 - 4.470j, 1.864 - 7.149j],\n",
    "        [0.766 - 4.821j, 4.413 - 0.228j, 9.759 + 4.256j],\n",
    "        [1.0335 - 3.672j, 3.890 - 5.741j, 7.760 + 3.812j],\n",
    "    ]\n",
    ")\n",
    "\n",
    "t1 = (a + b).conj().T\n",
    "t2 = a.conj().T + b.conj().T\n",
    "\n",
    "display(array_to_latex(a, prefix=r\"\\mathbf{A}=\"))\n",
    "display(array_to_latex(b, prefix=r\"\\mathbf{B}=\"))\n",
    "\n",
    "display(array_to_latex(t1, prefix=r\"\\mathbf{(A+B)^\\dagger}=\"))\n",
    "display(array_to_latex(t2, prefix=r\"\\mathbf{A^\\dagger+B^\\dagger}=\"))\n",
    "\n",
    "display(\n",
    "    Math(\n",
    "        rf\"\\mathbf{{(A+B)^\\dagger=A^\\dagger+B^\\dagger}}\"\n",
    "        #np.isclose().all() allows is close to compare matrices \n",
    "        rf\"\\;?\\;$$\\rightarrow$$\\;{np.isclose(t1,t2).all()}\"\n",
    "    )\n",
    ")"
   ]
  },
  {
   "cell_type": "code",
   "execution_count": 17,
   "id": "2880d384-3e1d-476b-88d7-265973b02bd9",
   "metadata": {},
   "outputs": [
    {
     "data": {
      "text/latex": [
       "$$\n",
       "\\mathbf{v}^\\dagger\n",
       "\\begin{bmatrix}\n",
       "7 + 2i  \\\\\n",
       " -4i  \\\\\n",
       " 11 - 6i  \\\\\n",
       " -15  \\\\\n",
       " \\end{bmatrix}\n",
       "$$"
      ],
      "text/plain": [
       "<IPython.core.display.Latex object>"
      ]
     },
     "metadata": {},
     "output_type": "display_data"
    },
    {
     "data": {
      "text/latex": [
       "$$\n",
       "\\mathbf{w}=\n",
       "\\begin{bmatrix}\n",
       "-3 - 5i & 2 + 9i & -12i & 1 + 8i  \\\\\n",
       " \\end{bmatrix}\n",
       "$$"
      ],
      "text/plain": [
       "<IPython.core.display.Latex object>"
      ]
     },
     "metadata": {},
     "output_type": "display_data"
    },
    {
     "data": {
      "text/latex": [
       "$$\n",
       "\\mathbf{v}^\\dagger\\cdot \\mathbf{w=}\n",
       "\\begin{bmatrix}\n",
       "-11 - 41i & -4 + 67i & 24 - 84i & -9 + 58i  \\\\\n",
       " -20 + 12i & 36 - 8i & -48 & 32 - 4i  \\\\\n",
       " -63 - 37i & 76 + 87i & -72 - 132i & 59 + 82i  \\\\\n",
       " 45 + 75i & -30 - 135i & 180i & -15 - 120i  \\\\\n",
       " \\end{bmatrix}\n",
       "$$"
      ],
      "text/plain": [
       "<IPython.core.display.Latex object>"
      ]
     },
     "metadata": {},
     "output_type": "display_data"
    },
    {
     "data": {
      "text/latex": [
       "$\\displaystyle \\langle\\mathbf{v,w}\\rangle=(-62-301j)$"
      ],
      "text/plain": [
       "<IPython.core.display.Math object>"
      ]
     },
     "metadata": {},
     "output_type": "display_data"
    },
    {
     "data": {
      "text/latex": [
       "$\\displaystyle \\operatorname{Tr}(\\mathbf{v}^\\dagger\\cdot \\mathbf{w})=(-62-301j)$"
      ],
      "text/plain": [
       "<IPython.core.display.Math object>"
      ]
     },
     "metadata": {},
     "output_type": "display_data"
    },
    {
     "data": {
      "text/latex": [
       "$\\displaystyle \\langle\\mathbf{v,w}\\rangle=\\operatorname{Tr}(\\mathbf{v}^\\dagger\\cdot \\mathbf{w})\\;?\\;$$\\rightarrow$$\\;True$"
      ],
      "text/plain": [
       "<IPython.core.display.Math object>"
      ]
     },
     "metadata": {},
     "output_type": "display_data"
    }
   ],
   "source": [
    "# Cell 4\n",
    "\n",
    "# The inner product of two equal length vectors\n",
    "# is equal to the trace of their dot product\n",
    "\n",
    "w = np.complex128([-3 - 5j, 2 + 9j, -12j, 1 + 8j])\n",
    "\n",
    "t1 = np.dot(v.conj().T, w)\n",
    "\n",
    "# To find the trace, we need to expand the 1-d vectors to each become a 2-d numpy matrix\n",
    "# Since the vectors had equal length, their outer product will be a square matrix\n",
    "# Outer product is just a different approach to perfom matrix multiplication\n",
    "t2 = np.dot(v[np.newaxis].conj().T, w[np.newaxis]).trace()\n",
    "\n",
    "display(array_to_latex(v[np.newaxis].conj().T, prefix=r\"\\mathbf{v}^\\dagger\"))\n",
    "display(array_to_latex(w[np.newaxis], prefix=r\"\\mathbf{w}=\"))\n",
    "display(array_to_latex(np.dot(v[np.newaxis].conj().T, w[np.newaxis]), prefix=r\"\\mathbf{v}^\\dagger\\cdot \\mathbf{w=}\",))\n",
    "\n",
    "display(Math(rf\"\\langle\\mathbf{{v,w}}\\rangle={t1}\"))\n",
    "display(Math(rf\"\\operatorname{{Tr}}(\\mathbf{{v}}^\\dagger\\cdot \\mathbf{{w}})={t2}\"))\n",
    "\n",
    "display(\n",
    "    Math(\n",
    "        rf\"\\langle\\mathbf{{v,w}}\\rangle=\"\n",
    "        rf\"\\operatorname{{Tr}}(\\mathbf{{v}}^\\dagger\\cdot \\mathbf{{w}})\"\n",
    "        rf\"\\;?\\;$$\\rightarrow$$\\;{np.isclose(t1,t2)}\"\n",
    "    )\n",
    ")"
   ]
  },
  {
   "cell_type": "code",
   "execution_count": 18,
   "id": "156bd1fa-3f7e-4fd1-9063-6a6e9d164aac",
   "metadata": {},
   "outputs": [
    {
     "data": {
      "text/latex": [
       "$\\displaystyle \\operatorname{Tr}[\\mathrm{x}\\mathbf{A}+\\mathrm{y}\\mathbf{B}]=(-24.359+0.27300000000000324j)$"
      ],
      "text/plain": [
       "<IPython.core.display.Math object>"
      ]
     },
     "metadata": {},
     "output_type": "display_data"
    },
    {
     "data": {
      "text/latex": [
       "$\\displaystyle \\mathrm{x}\\operatorname{Tr}[\\mathbf{A}]+\\mathrm{y}\\operatorname{Tr}[\\mathbf{B}]=\\color{red}{(-24.358999999999995+0.27300000000000413j)}$"
      ],
      "text/plain": [
       "<IPython.core.display.Math object>"
      ]
     },
     "metadata": {},
     "output_type": "display_data"
    },
    {
     "data": {
      "text/latex": [
       "$\\displaystyle \\operatorname{Tr}[\\mathrm{x}\\mathbf{A}+\\mathrm{y}\\mathbf{B}]=\\mathrm{x}\\operatorname{Tr}[\\mathbf{A}]+\\mathrm{y}\\operatorname{Tr}[\\mathbf{B}]\\;?\\;$$\\rightarrow$$\\;True$"
      ],
      "text/plain": [
       "<IPython.core.display.Math object>"
      ]
     },
     "metadata": {},
     "output_type": "display_data"
    }
   ],
   "source": [
    "# Cell 5\n",
    "\n",
    "# The trace operator is distributive across scalar-array multiplication\n",
    "\n",
    "x = 5\n",
    "y = 7\n",
    "\n",
    "# .trace() simply takes the trace\n",
    "t1 = (x * a - y * b).trace()\n",
    "t2 = x * a.trace() - y * b.trace()\n",
    "\n",
    "display(\n",
    "    Math(\n",
    "        rf\"\\operatorname{{Tr}}[\\mathrm{{x}}\\mathbf{{A}}+\\mathrm{{y}}\\mathbf{{B}}]={t1}\"\n",
    "    )\n",
    ")\n",
    "display(\n",
    "    Math(\n",
    "        rf\"\\mathrm{{x}}\\operatorname{{Tr}}[\\mathbf{{A}}]+\\mathrm{{y}}\\operatorname{{Tr}}[\\mathbf{{B}}]=\"\n",
    "        rf\"\\color{{red}}{{{t2}}}\"\n",
    "    )\n",
    ")\n",
    "\n",
    "display(\n",
    "    Math(\n",
    "        rf\"\\operatorname{{Tr}}[\\mathrm{{x}}\\mathbf{{A}}+\\mathrm{{y}}\\mathbf{{B}}]=\"\n",
    "        rf\"\\mathrm{{x}}\\operatorname{{Tr}}[\\mathbf{{A}}]+\\mathrm{{y}}\\operatorname{{Tr}}[\\mathbf{{B}}]\"\n",
    "        rf\"\\;?\\;$$\\rightarrow$$\\;{np.isclose(t1,t2)}\"\n",
    "    )\n",
    ")"
   ]
  },
  {
   "cell_type": "code",
   "execution_count": 19,
   "id": "93bd9a37-0ce9-4b29-83cd-4364a8ce2c58",
   "metadata": {},
   "outputs": [
    {
     "data": {
      "text/latex": [
       "$$\n",
       "\\mathbf{v}=\n",
       "\\begin{bmatrix}\n",
       "3.883 + 1.089i & 6.654 - 4.201i & 8.721 + 9.767i  \\\\\n",
       " \\end{bmatrix}\n",
       "$$"
      ],
      "text/plain": [
       "<IPython.core.display.Latex object>"
      ]
     },
     "metadata": {},
     "output_type": "display_data"
    },
    {
     "data": {
      "text/latex": [
       "$$\n",
       "\\mathbf{w}=\n",
       "\\begin{bmatrix}\n",
       "2.591 + 6.558i & 5.608 - 0.175i & 1.945 - 1.031i  \\\\\n",
       " \\end{bmatrix}\n",
       "$$"
      ],
      "text/plain": [
       "<IPython.core.display.Latex object>"
      ]
     },
     "metadata": {},
     "output_type": "display_data"
    },
    {
     "data": {
      "text/latex": [
       "$$\n",
       "\\mathbf{A}=\n",
       "\\begin{bmatrix}\n",
       "5 & 4 + 5i & 6 - 16i  \\\\\n",
       " 4 - 5i & 13 & 7  \\\\\n",
       " 6 + 16i & 7 & 2.1  \\\\\n",
       " \\end{bmatrix}\n",
       "$$"
      ],
      "text/plain": [
       "<IPython.core.display.Latex object>"
      ]
     },
     "metadata": {},
     "output_type": "display_data"
    },
    {
     "data": {
      "text/latex": [
       "$\\displaystyle \\langle\\mathbf{A}\\cdot\\mathbf{v},\\mathbf{w}\\rangle=(1348.43832+1749.1474j)$"
      ],
      "text/plain": [
       "<IPython.core.display.Math object>"
      ]
     },
     "metadata": {},
     "output_type": "display_data"
    },
    {
     "data": {
      "text/latex": [
       "$\\displaystyle \\langle\\mathbf{v},\\;\\mathbf{A}\\cdot\\mathbf{w}\\rangle=(1348.43832+1749.1474j)$"
      ],
      "text/plain": [
       "<IPython.core.display.Math object>"
      ]
     },
     "metadata": {},
     "output_type": "display_data"
    },
    {
     "data": {
      "text/latex": [
       "$\\displaystyle \\langle\\mathbf{A}\\cdot\\mathbf{v},\\mathbf{w}\\rangle=\\langle\\mathbf{v},\\;\\mathbf{A}\\cdot\\mathbf{w}\\rangle\\;?\\;$$\\rightarrow$$\\;True$"
      ],
      "text/plain": [
       "<IPython.core.display.Math object>"
      ]
     },
     "metadata": {},
     "output_type": "display_data"
    }
   ],
   "source": [
    "# Cell 6\n",
    "\n",
    "# Within an inner product, a Hermitian matrix can be dotted to either vector\n",
    "\n",
    "v = np.array([3.883 + 1.089j, 6.654 - 4.201j, 8.721 + 9.767j])\n",
    "w = np.array([2.591 + 6.558j, 5.608 - 0.175j, 1.945 - 1.031j])\n",
    "\n",
    "\n",
    "t1 = np.dot(np.dot(a, v).conj(), w)\n",
    "t2 = np.dot(v.conj(), np.dot(a, w))\n",
    "\n",
    "display(array_to_latex(v, prefix=r\"\\mathbf{v}=\"))\n",
    "display(array_to_latex(w, prefix=r\"\\mathbf{w}=\"))\n",
    "\n",
    "display(array_to_latex(a, prefix=r\"\\mathbf{A}=\"))\n",
    "\n",
    "display(\n",
    "    Math(rf\"\\langle\\mathbf{{A}}\\cdot\\mathbf{{v}},\\mathbf{{w}}\\rangle={np.round(t1,5)}\")\n",
    ")\n",
    "display(\n",
    "    Math(\n",
    "        rf\"\\langle\\mathbf{{v}},\\;\\mathbf{{A}}\\cdot\\mathbf{{w}}\\rangle={np.round(t2,5)}\"\n",
    "    )\n",
    ")\n",
    "\n",
    "display(\n",
    "    Math(\n",
    "        rf\"\\langle\\mathbf{{A}}\\cdot\\mathbf{{v}},\\mathbf{{w}}\\rangle=\"\n",
    "        rf\"\\langle\\mathbf{{v}},\\;\\mathbf{{A}}\\cdot\\mathbf{{w}}\\rangle\"\n",
    "        rf\"\\;?\\;$$\\rightarrow$$\\;{np.isclose(t1,t2)}\"\n",
    "    )\n",
    ")"
   ]
  },
  {
   "cell_type": "code",
   "execution_count": 20,
   "id": "4544dc02-242c-4b24-a3e3-aa224a5e1569",
   "metadata": {},
   "outputs": [
    {
     "data": {
      "text/latex": [
       "$$\n",
       "\\mathbf{v}=\n",
       "\\begin{bmatrix}\n",
       "7 - 2i & 4i & 11 + 6i & -15  \\\\\n",
       " \\end{bmatrix}\n",
       "$$"
      ],
      "text/plain": [
       "<IPython.core.display.Latex object>"
      ]
     },
     "metadata": {},
     "output_type": "display_data"
    },
    {
     "data": {
      "text/latex": [
       "$$\n",
       "\\mathbf{U}=\n",
       "\\begin{bmatrix}\n",
       "\\tfrac{1}{\\sqrt{2}} & 0 & \\tfrac{1}{\\sqrt{2}} & 0  \\\\\n",
       " 0 & \\tfrac{1}{\\sqrt{2}} & 0 & \\tfrac{1}{\\sqrt{2}}  \\\\\n",
       " \\tfrac{1}{\\sqrt{2}} & 0 & -\\tfrac{1}{\\sqrt{2}} & 0  \\\\\n",
       " 0 & \\tfrac{1}{\\sqrt{2}} & 0 & -\\tfrac{1}{\\sqrt{2}}  \\\\\n",
       " \\end{bmatrix}\n",
       "$$"
      ],
      "text/plain": [
       "<IPython.core.display.Latex object>"
      ]
     },
     "metadata": {},
     "output_type": "display_data"
    },
    {
     "data": {
      "text/latex": [
       "$$\n",
       "\\mathbf{I}=\n",
       "\\begin{bmatrix}\n",
       "1 & 0 & 0 & 0  \\\\\n",
       " 0 & 1 & 0 & 0  \\\\\n",
       " 0 & 0 & 1 & 0  \\\\\n",
       " 0 & 0 & 0 & 1  \\\\\n",
       " \\end{bmatrix}\n",
       "$$"
      ],
      "text/plain": [
       "<IPython.core.display.Latex object>"
      ]
     },
     "metadata": {},
     "output_type": "display_data"
    },
    {
     "data": {
      "text/latex": [
       "$\\displaystyle \\|\\mathbf{v}\\|=21.236760581595302$"
      ],
      "text/plain": [
       "<IPython.core.display.Math object>"
      ]
     },
     "metadata": {},
     "output_type": "display_data"
    },
    {
     "data": {
      "text/latex": [
       "$\\displaystyle \\|\\mathbf{U \\cdot v}\\|=21.2367605815953$"
      ],
      "text/plain": [
       "<IPython.core.display.Math object>"
      ]
     },
     "metadata": {},
     "output_type": "display_data"
    },
    {
     "data": {
      "text/latex": [
       "$\\displaystyle \\sqrt{\\langle\\mathbf{U \\cdot v, v\\cdot U\\rangle}}=\\color{red}{(21.2367605815953+0j)}$"
      ],
      "text/plain": [
       "<IPython.core.display.Math object>"
      ]
     },
     "metadata": {},
     "output_type": "display_data"
    },
    {
     "data": {
      "text/latex": [
       "$\\displaystyle \\|\\mathbf{U \\cdot v}\\|=\\sqrt{\\langle\\mathbf{U \\cdot v, v\\cdot U\\rangle}}\\;?\\;$$\\rightarrow$$\\;True$"
      ],
      "text/plain": [
       "<IPython.core.display.Math object>"
      ]
     },
     "metadata": {},
     "output_type": "display_data"
    }
   ],
   "source": [
    "# Cell 7\n",
    "\n",
    "# The dot product of a Unitary matrix and a vector respects the vector norm\n",
    "\n",
    "v = np.complex128([7 - 2j, 4j, 11 + 6j, -15])\n",
    "\n",
    "# Declare a unitary matrix U\n",
    "u = np.dot(1 / np.sqrt(2), [[1, 0, 1, 0], [0, 1, 0, 1], [1, 0, -1, 0], [0, 1, 0, -1]])\n",
    "\n",
    "# The dot product of a Unitary matrix and its Hermitian (aka dagger) is the Identity matrix\n",
    "i = np.dot(u, u.conj().T)\n",
    "\n",
    "t1 = np.linalg.norm(np.dot(u, v))\n",
    "t2 = np.sqrt(np.dot(np.dot(u, v).conj(), np.dot(v, u)))\n",
    "\n",
    "display(array_to_latex(v, prefix=\"\\mathbf{v}=\"))\n",
    "\n",
    "display(array_to_latex(u, prefix=\"\\mathbf{U}=\"))\n",
    "display(array_to_latex(i, prefix=\"\\mathbf{I}=\"))\n",
    "\n",
    "display(Math(rf\"\\|\\mathbf{{v}}\\|={np.linalg.norm(v)}\"))\n",
    "display(Math(rf\"\\|\\mathbf{{U \\cdot v}}\\|={t1}\"))\n",
    "display(\n",
    "    Math(\n",
    "        rf\"\\sqrt{{\\langle\\mathbf{{U \\cdot v, v\\cdot U\\rangle}}}}=\\color{{red}}{{{t2}}}\"\n",
    "    )\n",
    ")\n",
    "\n",
    "display(\n",
    "    Math(\n",
    "        rf\"\\|\\mathbf{{U \\cdot v}}\\|=\"\n",
    "        rf\"\\sqrt{{\\langle\\mathbf{{U \\cdot v, v\\cdot U\\rangle}}}}\"\n",
    "        rf\"\\;?\\;$$\\rightarrow$$\\;{np.isclose(t1,t2)}\"\n",
    "    )\n",
    ")"
   ]
  },
  {
   "cell_type": "code",
   "execution_count": 21,
   "id": "bb8c40ba-816a-4943-bf5e-994492f0188d",
   "metadata": {},
   "outputs": [
    {
     "data": {
      "text/latex": [
       "$$\n",
       "\\mathbf{v}=\n",
       "\\begin{bmatrix}\n",
       "3.883 + 1.089i & 6.654 - 4.201i & 8.721 + 9.767i  \\\\\n",
       " \\end{bmatrix}\n",
       "$$"
      ],
      "text/plain": [
       "<IPython.core.display.Latex object>"
      ]
     },
     "metadata": {},
     "output_type": "display_data"
    },
    {
     "data": {
      "text/latex": [
       "$$\n",
       "\\mathbf{w}=\n",
       "\\begin{bmatrix}\n",
       "2.591 + 6.558i & 5.608 - 0.175i & 1.945 - 1.031i  \\\\\n",
       " \\end{bmatrix}\n",
       "$$"
      ],
      "text/plain": [
       "<IPython.core.display.Latex object>"
      ]
     },
     "metadata": {},
     "output_type": "display_data"
    },
    {
     "data": {
      "text/latex": [
       "$\\displaystyle \\langle\\mathbf{v,w}\\rangle=(62.14589+17.04971j)$"
      ],
      "text/plain": [
       "<IPython.core.display.Math object>"
      ]
     },
     "metadata": {},
     "output_type": "display_data"
    },
    {
     "data": {
      "text/latex": [
       "$\\displaystyle \\overline{\\langle\\mathbf{w,v}\\rangle}=(62.14589+17.04971j)$"
      ],
      "text/plain": [
       "<IPython.core.display.Math object>"
      ]
     },
     "metadata": {},
     "output_type": "display_data"
    },
    {
     "data": {
      "text/latex": [
       "$\\displaystyle \\langle\\mathbf{v,w}\\rangle=\\overline{\\langle\\mathbf{v,w}\\rangle}\\;?\\;$$\\rightarrow$$\\;True$"
      ],
      "text/plain": [
       "<IPython.core.display.Math object>"
      ]
     },
     "metadata": {},
     "output_type": "display_data"
    }
   ],
   "source": [
    "# Cell 8\n",
    "\n",
    "# Commutation within an inner product produces the conjugate\n",
    "\n",
    "v = np.array([3.883 + 1.089j, 6.654 - 4.201j, 8.721 + 9.767j])\n",
    "w = np.array([2.591 + 6.558j, 5.608 - 0.175j, 1.945 - 1.031j])\n",
    "\n",
    "t1 = np.dot(v.conj(), w)\n",
    "t2 = np.dot(w.conj(), v).conj()\n",
    "\n",
    "display(array_to_latex(v, prefix=\"\\mathbf{v}=\"))\n",
    "display(array_to_latex(w, prefix=r\"\\mathbf{w}=\"))\n",
    "\n",
    "display(Math(rf\"\\langle\\mathbf{{v,w}}\\rangle={np.round(t1,5)}\"))\n",
    "display(Math(rf\"\\overline{{\\langle\\mathbf{{w,v}}\\rangle}}={np.round(t2,5)}\"))\n",
    "\n",
    "display(\n",
    "    Math(\n",
    "        rf\"\\langle\\mathbf{{v,w}}\\rangle=\"\n",
    "        rf\"\\overline{{\\langle\\mathbf{{v,w}}\\rangle}}\"\n",
    "        rf\"\\;?\\;$$\\rightarrow$$\\;{np.isclose(t1,t2)}\"\n",
    "    )\n",
    ")"
   ]
  },
  {
   "cell_type": "code",
   "execution_count": 22,
   "id": "029ad1d0-91c1-4ddd-8726-06c4043a58e0",
   "metadata": {
    "tags": []
   },
   "outputs": [
    {
     "data": {
      "text/latex": [
       "$\\displaystyle |\\langle\\mathbf{v,w}\\rangle|=64.44225$"
      ],
      "text/plain": [
       "<IPython.core.display.Math object>"
      ]
     },
     "metadata": {},
     "output_type": "display_data"
    },
    {
     "data": {
      "text/latex": [
       "$\\displaystyle \\|\\mathbf{v}\\|\\|\\mathbf{w}\\|=146.56251$"
      ],
      "text/plain": [
       "<IPython.core.display.Math object>"
      ]
     },
     "metadata": {},
     "output_type": "display_data"
    },
    {
     "data": {
      "text/latex": [
       "$\\displaystyle |\\langle\\mathbf{v,w}\\rangle|\\leq\\|\\mathbf{v}\\|\\|\\mathbf{w}\\|\\;?\\;$$\\rightarrow$$\\;{True}$"
      ],
      "text/plain": [
       "<IPython.core.display.Math object>"
      ]
     },
     "metadata": {},
     "output_type": "display_data"
    }
   ],
   "source": [
    "# Cell 9\n",
    "\n",
    "# Demonstrate the Cauchy–Schwarz inequality\n",
    "\n",
    "t1 = np.linalg.norm(np.vdot(v, w))\n",
    "t2 = np.linalg.norm(v) * np.linalg.norm(w)\n",
    "\n",
    "display(Math(rf\"|\\langle\\mathbf{{v,w}}\\rangle|={np.round(t1,5)}\"))\n",
    "display(Math(rf\"\\|\\mathbf{{v}}\\|\\|\\mathbf{{w}}\\|={np.round(t2,5)}\"))\n",
    "display(\n",
    "    Math(\n",
    "        rf\"|\\langle\\mathbf{{v,w}}\\rangle|\\leq\"\n",
    "        rf\"\\|\\mathbf{{v}}\\|\\|\\mathbf{{w}}\\|\\;?\\;$$\\rightarrow$$\\;{{{t1<=t2}}}\"\n",
    "    )\n",
    ")"
   ]
  },
  {
   "cell_type": "code",
   "execution_count": 23,
   "id": "9fb95d7a-12f9-451c-86b4-96ac61e053a8",
   "metadata": {},
   "outputs": [
    {
     "data": {
      "text/latex": [
       "$$\n",
       "\\mathbf{(A\\cdot B)^\\dagger}=\n",
       "\\begin{bmatrix}\n",
       "2.938 + 72.137i & 21.7335 + 131.189i & 99.48435 - 27.4278i  \\\\\n",
       " -11.364 + 97.883i & 92.937 + 99.391i & 156.612 - 82.2799i  \\\\\n",
       " 134.628 + 71.214i & 152.898 - 44.096i & 210.177 - 24.7272i  \\\\\n",
       " \\end{bmatrix}\n",
       "$$"
      ],
      "text/plain": [
       "<IPython.core.display.Latex object>"
      ]
     },
     "metadata": {},
     "output_type": "display_data"
    },
    {
     "data": {
      "text/latex": [
       "$$\n",
       "\\mathbf{B^\\dagger\\cdot A^\\dagger}=\n",
       "\\begin{bmatrix}\n",
       "2.938 + 72.137i & 21.7335 + 131.189i & 99.48435 - 27.4278i  \\\\\n",
       " -11.364 + 97.883i & 92.937 + 99.391i & 156.612 - 82.2799i  \\\\\n",
       " 134.628 + 71.214i & 152.898 - 44.096i & 210.177 - 24.7272i  \\\\\n",
       " \\end{bmatrix}\n",
       "$$"
      ],
      "text/plain": [
       "<IPython.core.display.Latex object>"
      ]
     },
     "metadata": {},
     "output_type": "display_data"
    },
    {
     "data": {
      "text/latex": [
       "$\\displaystyle \\mathbf{(A\\cdot B)^\\dagger=B^\\dagger\\cdot A^\\dagger}\\;?\\;$$\\rightarrow$$\\;True$"
      ],
      "text/plain": [
       "<IPython.core.display.Math object>"
      ]
     },
     "metadata": {},
     "output_type": "display_data"
    }
   ],
   "source": [
    "# Cell 10\n",
    "\n",
    "# The adjoint (dagger) operator is distributive across a commutated dot product\n",
    "\n",
    "t1 = np.dot(a, b).conj().T\n",
    "t2 = np.dot(b.conj().T, a.conj().T)\n",
    "\n",
    "display(array_to_latex(t1, prefix=r\"\\mathbf{(A\\cdot B)^\\dagger}=\"))\n",
    "display(array_to_latex(t2, prefix=r\"\\mathbf{B^\\dagger\\cdot A^\\dagger}=\"))\n",
    "\n",
    "display(\n",
    "    Math(\n",
    "        rf\"\\mathbf{{(A\\cdot B)^\\dagger=B^\\dagger\\cdot A^\\dagger}}\"\n",
    "        rf\"\\;?\\;$$\\rightarrow$$\\;{np.isclose(t1,t2).all()}\"\n",
    "    )\n",
    ")"
   ]
  },
  {
   "cell_type": "code",
   "execution_count": 31,
   "id": "ca76c0c5-25c9-464e-afb5-ec97919da9af",
   "metadata": {},
   "outputs": [
    {
     "data": {
      "text/latex": [
       "$$\n",
       "\\mathbf{c}=\n",
       "\\begin{bmatrix}\n",
       "-\\tfrac{11}{4} - 5.21i  \\\\\n",
       " \\end{bmatrix}\n",
       "$$"
      ],
      "text/plain": [
       "<IPython.core.display.Latex object>"
      ]
     },
     "metadata": {},
     "output_type": "display_data"
    },
    {
     "data": {
      "text/latex": [
       "$$\n",
       "\\mathbf{v}=\n",
       "\\begin{bmatrix}\n",
       "3.883 + 1.089i & 6.654 - 4.201i & 8.721 + 9.767i  \\\\\n",
       " \\end{bmatrix}\n",
       "$$"
      ],
      "text/plain": [
       "<IPython.core.display.Latex object>"
      ]
     },
     "metadata": {},
     "output_type": "display_data"
    },
    {
     "data": {
      "text/latex": [
       "$\\displaystyle \\|\\mathbf{c\\cdot v}\\|=93.08104666233723$"
      ],
      "text/plain": [
       "<IPython.core.display.Math object>"
      ]
     },
     "metadata": {},
     "output_type": "display_data"
    },
    {
     "data": {
      "text/latex": [
       "$\\displaystyle |\\mathbf{c}|\\cdot \\|\\mathbf{v}\\|=93.08104666233722$"
      ],
      "text/plain": [
       "<IPython.core.display.Math object>"
      ]
     },
     "metadata": {},
     "output_type": "display_data"
    },
    {
     "data": {
      "text/latex": [
       "$\\displaystyle \\|\\mathbf{c\\cdot v}\\|=|\\mathbf{c}|\\cdot \\|\\mathbf{v}\\|\\;?\\;$$\\rightarrow$$\\;{True}$"
      ],
      "text/plain": [
       "<IPython.core.display.Math object>"
      ]
     },
     "metadata": {},
     "output_type": "display_data"
    }
   ],
   "source": [
    "# Cell 11 - Scalar Multiplication Respects Norms\n",
    "\n",
    "v = np.array([3.883 + 1.089j, 6.654 - 4.201j, 8.721 + 9.767j])\n",
    "c = np.array([-2.75 - 5.21j])\n",
    "\n",
    "t1 = np.linalg.norm(s * v)\n",
    "t2 = np.linalg.norm(s) * np.linalg.norm(v)\n",
    "\n",
    "display(array_to_latex(c, prefix=\"\\mathbf{c}=\"))\n",
    "display(array_to_latex(v, prefix=\"\\mathbf{v}=\"))\n",
    "\n",
    "display(Math(rf\"\\|\\mathbf{{c\\cdot v}}\\|={t1}\"))\n",
    "display(Math(rf\"|\\mathbf{{c}}|\\cdot \\|\\mathbf{{v}}\\|={t2}\"))\n",
    "\n",
    "display(\n",
    "    Math(\n",
    "        rf\"\\|\\mathbf{{c\\cdot v}}\\|=\"\n",
    "        rf\"|\\mathbf{{c}}|\\cdot \\|\\mathbf{{v}}\\|\\;?\\;$$\\rightarrow$$\\;{{{np.isclose(t1,t2)}}}\"\n",
    "    )\n",
    ")"
   ]
  },
  {
   "cell_type": "code",
   "execution_count": null,
   "id": "ab163d11-23b1-4081-b0e0-a2c4ee77ade5",
   "metadata": {},
   "outputs": [],
   "source": []
  }
 ],
 "metadata": {
  "kernelspec": {
   "display_name": "Python 3 (ipykernel)",
   "language": "python",
   "name": "python3"
  },
  "language_info": {
   "codemirror_mode": {
    "name": "ipython",
    "version": 3
   },
   "file_extension": ".py",
   "mimetype": "text/x-python",
   "name": "python",
   "nbconvert_exporter": "python",
   "pygments_lexer": "ipython3",
   "version": "3.10.4"
  }
 },
 "nbformat": 4,
 "nbformat_minor": 5
}
