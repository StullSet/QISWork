{
 "cells": [
  {
   "cell_type": "code",
   "execution_count": 1,
   "id": "278d9f63-d964-4b20-a3a3-0125c8e30505",
   "metadata": {},
   "outputs": [
    {
     "data": {
      "text/latex": [
       "$$\n",
       "\\mathbf{F}=\n",
       "\\begin{bmatrix}\n",
       "1 & 0  \\\\\n",
       " \\end{bmatrix}\n",
       "$$"
      ],
      "text/plain": [
       "<IPython.core.display.Latex object>"
      ]
     },
     "metadata": {},
     "output_type": "display_data"
    },
    {
     "data": {
      "text/latex": [
       "$$\n",
       "\\mathbf{T}=\n",
       "\\begin{bmatrix}\n",
       "0 & 1  \\\\\n",
       " \\end{bmatrix}\n",
       "$$"
      ],
      "text/plain": [
       "<IPython.core.display.Latex object>"
      ]
     },
     "metadata": {},
     "output_type": "display_data"
    },
    {
     "data": {
      "text/latex": [
       "$$\n",
       "\\mathbf{NOT}=\n",
       "\\begin{bmatrix}\n",
       "0 & 1  \\\\\n",
       " 1 & 0  \\\\\n",
       " \\end{bmatrix}\n",
       "$$"
      ],
      "text/plain": [
       "<IPython.core.display.Latex object>"
      ]
     },
     "metadata": {},
     "output_type": "display_data"
    },
    {
     "data": {
      "text/latex": [
       "$$\n",
       "\\mathbf{AND}=\n",
       "\\begin{bmatrix}\n",
       "1 & 1 & 1 & 0  \\\\\n",
       " 0 & 0 & 0 & 1  \\\\\n",
       " \\end{bmatrix}\n",
       "$$"
      ],
      "text/plain": [
       "<IPython.core.display.Latex object>"
      ]
     },
     "metadata": {},
     "output_type": "display_data"
    },
    {
     "data": {
      "text/latex": [
       "$$\n",
       "\\mathbf{OR}=\n",
       "\\begin{bmatrix}\n",
       "1 & 0 & 0 & 0  \\\\\n",
       " 0 & 1 & 1 & 1  \\\\\n",
       " \\end{bmatrix}\n",
       "$$"
      ],
      "text/plain": [
       "<IPython.core.display.Latex object>"
      ]
     },
     "metadata": {},
     "output_type": "display_data"
    }
   ],
   "source": [
    "# simple_circuit.ipynb\n",
    "\n",
    "# Cell 1\n",
    "\n",
    "# Defining functions to call later on\n",
    "\n",
    "import numpy as np\n",
    "from IPython.display import Math\n",
    "from qiskit.visualization import array_to_latex\n",
    "\n",
    "f = np.array([1, 0])\n",
    "t = np.array([0, 1])\n",
    "\n",
    "g_not = np.array([[0, 1], [1, 0]])\n",
    "g_and = np.array([[1, 1, 1, 0], [0, 0, 0, 1]])\n",
    "g_or = np.array([[1, 0, 0, 0], [0, 1, 1, 1]])\n",
    "\n",
    "display(array_to_latex(f, prefix=r\"\\mathbf{F}=\"))\n",
    "display(array_to_latex(t, prefix=r\"\\mathbf{T}=\"))\n",
    "\n",
    "display(array_to_latex(g_not, prefix=r\"\\mathbf{NOT}=\"))\n",
    "display(array_to_latex(g_and, prefix=r\"\\mathbf{AND}=\"))\n",
    "display(array_to_latex(g_or, prefix=r\"\\mathbf{OR}=\"))"
   ]
  },
  {
   "cell_type": "code",
   "execution_count": 2,
   "id": "a582a126-1b37-4493-844e-e44674aaa350",
   "metadata": {},
   "outputs": [],
   "source": [
    "# Cell 2 - Implement Boolean circuit using matrix algebra\n",
    "\n",
    "# a,b,c, and d are expected to be encoded as classical bits (2,1)\n",
    "def circuit(a, b, c, d):\n",
    "    # Creating a 4x1 of a and b to work with 2 inputs\n",
    "    # Returning the 2x1 output of an and gate\n",
    "    g1 = np.dot(g_and, np.kron(a, b))\n",
    "    # Not gate, 1 input\n",
    "    g2 = np.dot(g_not, c)\n",
    "    # or gate with the inputs from g1 and g2\n",
    "    g3 = np.dot(g_or, np.kron(g1, g2))\n",
    "    # and gate with inputs from g1 and d\n",
    "    g4 = np.dot(g_and, np.kron(g3, d))\n",
    "    # Final not gate of g4 output\n",
    "    g5 = np.dot(g_not, g4)\n",
    "    return g5"
   ]
  },
  {
   "cell_type": "code",
   "execution_count": 3,
   "id": "f4a04d5b-7548-426c-9346-d63d14b2b4cd",
   "metadata": {},
   "outputs": [
    {
     "name": "stdout",
     "output_type": "stream",
     "text": [
      "a: [1 0]  b: [1 0]  c: [1 0]  d: [1 0]  v: [0 1]\n",
      "a: [1 0]  b: [1 0]  c: [1 0]  d: [0 1]  v: [1 0]\n",
      "a: [1 0]  b: [1 0]  c: [0 1]  d: [1 0]  v: [0 1]\n",
      "a: [1 0]  b: [1 0]  c: [0 1]  d: [0 1]  v: [0 1]\n",
      "a: [1 0]  b: [0 1]  c: [1 0]  d: [1 0]  v: [0 1]\n",
      "a: [1 0]  b: [0 1]  c: [1 0]  d: [0 1]  v: [1 0]\n",
      "a: [1 0]  b: [0 1]  c: [0 1]  d: [1 0]  v: [0 1]\n",
      "a: [1 0]  b: [0 1]  c: [0 1]  d: [0 1]  v: [0 1]\n",
      "a: [0 1]  b: [1 0]  c: [1 0]  d: [1 0]  v: [0 1]\n",
      "a: [0 1]  b: [1 0]  c: [1 0]  d: [0 1]  v: [1 0]\n",
      "a: [0 1]  b: [1 0]  c: [0 1]  d: [1 0]  v: [0 1]\n",
      "a: [0 1]  b: [1 0]  c: [0 1]  d: [0 1]  v: [0 1]\n",
      "a: [0 1]  b: [0 1]  c: [1 0]  d: [1 0]  v: [0 1]\n",
      "a: [0 1]  b: [0 1]  c: [1 0]  d: [0 1]  v: [1 0]\n",
      "a: [0 1]  b: [0 1]  c: [0 1]  d: [1 0]  v: [0 1]\n",
      "a: [0 1]  b: [0 1]  c: [0 1]  d: [0 1]  v: [1 0]\n"
     ]
    }
   ],
   "source": [
    "# Cell 3 - Create truth table for three inputs and show the output\n",
    "\n",
    "for a in [f, t]:\n",
    "    for b in [f, t]:\n",
    "        for c in [f, t]:\n",
    "            for d in [f, t]:\n",
    "                print(f\"a: {a}\", end=\"  \")\n",
    "                print(f\"b: {b}\", end=\"  \")\n",
    "                print(f\"c: {c}\", end=\"  \")\n",
    "                print(f\"d: {d}\", end=\"  \")\n",
    "                print(f\"v: {circuit(a, b, c, d)}\")"
   ]
  },
  {
   "cell_type": "code",
   "execution_count": null,
   "id": "ea568492-0313-44ef-8e23-902c4bc99a72",
   "metadata": {},
   "outputs": [],
   "source": []
  }
 ],
 "metadata": {
  "kernelspec": {
   "display_name": "Python 3 (ipykernel)",
   "language": "python",
   "name": "python3"
  },
  "language_info": {
   "codemirror_mode": {
    "name": "ipython",
    "version": 3
   },
   "file_extension": ".py",
   "mimetype": "text/x-python",
   "name": "python",
   "nbconvert_exporter": "python",
   "pygments_lexer": "ipython3",
   "version": "3.10.4"
  }
 },
 "nbformat": 4,
 "nbformat_minor": 5
}
