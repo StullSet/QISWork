{
 "cells": [
  {
   "cell_type": "code",
   "execution_count": 9,
   "id": "1eab46f0-7605-4f15-98fb-d0687598250b",
   "metadata": {},
   "outputs": [
    {
     "data": {
      "text/latex": [
       "$$\n",
       "\\mathbf{\\lvert\\psi\\rangle}=\n",
       "\\begin{bmatrix}\n",
       "0.89671 + 0.64257i  \\\\\n",
       " 0.73024 + 0.22486i  \\\\\n",
       " 0.78328 + 0.70855i  \\\\\n",
       " 0.74165 + 0.74713i  \\\\\n",
       " 0.46209 + 0.62511i  \\\\\n",
       " \\end{bmatrix}\n",
       "$$"
      ],
      "text/plain": [
       "<IPython.core.display.Latex object>"
      ]
     },
     "metadata": {},
     "output_type": "display_data"
    },
    {
     "data": {
      "text/latex": [
       "$$\n",
       "\\mathbf{\\lvert\\phi\\rangle}=\n",
       "\\begin{bmatrix}\n",
       "0.57996 + 0.58879i  \\\\\n",
       " 0.24264 + 0.06935i  \\\\\n",
       " 0.13196 + 0.94283i  \\\\\n",
       " 0.14395 + 0.3726i  \\\\\n",
       " 0.60364 + 0.45199i  \\\\\n",
       " \\end{bmatrix}\n",
       "$$"
      ],
      "text/plain": [
       "<IPython.core.display.Latex object>"
      ]
     },
     "metadata": {},
     "output_type": "display_data"
    }
   ],
   "source": [
    "# operators.ipynb\n",
    "\n",
    "# Cell 1 - Create two random state vectors (not normalized)\n",
    "\n",
    "import numpy as np\n",
    "\n",
    "# import random\n",
    "from IPython.display import Math\n",
    "from qiskit.visualization import array_to_latex\n",
    "\n",
    "np.random.seed(2016)\n",
    "n = 5\n",
    "\n",
    "# Creating random state vectors with 5 amplitudes\n",
    "psi = np.random.random(n) + np.random.random(n) * 1j\n",
    "phi = np.random.random(n) + np.random.random(n) * 1j\n",
    "\n",
    "# Reminder for new syntax so we can display our vectors\n",
    "display(array_to_latex(psi[:, np.newaxis], prefix=r\"\\mathbf{\\lvert\\psi\\rangle}=\"))\n",
    "display(array_to_latex(phi[:, np.newaxis], prefix=r\"\\mathbf{\\lvert\\phi\\rangle}=\"))"
   ]
  },
  {
   "cell_type": "code",
   "execution_count": 10,
   "id": "c60d51ad-4bf3-48f3-89f1-0154e7803835",
   "metadata": {},
   "outputs": [
    {
     "data": {
      "text/latex": [
       "$$\n",
       "\\mathbf{\\hat{O}}=\n",
       "\\begin{bmatrix}\n",
       "0.45084 & 0.16942 + 0.18015i & 0.35275 + 0.34281i & 0.27764 + 0.37578i & 0.81492 + 0.37976i  \\\\\n",
       " 0.16942 - 0.18015i & 0.16083 & 0.7343 + 0.74005i & 0.39782 + 0.57772i & 0.4928 + 0.01752i  \\\\\n",
       " 0.35275 - 0.34281i & 0.7343 - 0.74005i & 0.68813 & 0.27536 + 0.60956i & 0.16067 + 0.42502i  \\\\\n",
       " 0.27764 - 0.37578i & 0.39782 - 0.57772i & 0.27536 - 0.60956i & 0.39239 & 0.34793 + 0.70107i  \\\\\n",
       " 0.81492 - 0.37976i & 0.4928 - 0.01752i & 0.16067 - 0.42502i & 0.34793 - 0.70107i & 0.27835  \\\\\n",
       " \\end{bmatrix}\n",
       "$$"
      ],
      "text/plain": [
       "<IPython.core.display.Latex object>"
      ]
     },
     "metadata": {},
     "output_type": "display_data"
    }
   ],
   "source": [
    "# Cell 2 - Create a Hermitian Operator (as a matrix)\n",
    "\n",
    "\n",
    "def create_hermitian_matrix(n):\n",
    "    # Creating an nxn matrix of zero values\n",
    "    # And allow for complex values\n",
    "    a = np.zeros((n, n), dtype=complex)\n",
    "    for i in range(n):\n",
    "        for j in range(i, n):\n",
    "            # Assigning 2 randum numbers\n",
    "            r1 = np.random.random()\n",
    "            r2 = np.random.random()\n",
    "            # If on diagonal set to be just real\n",
    "            if i == j:\n",
    "                a[i, j] = complex(r1, 0)\n",
    "            # Ensuring the matrix is Hermitian by forcing use of conjugates\n",
    "            else:\n",
    "                a[i, j] = complex(r1, r2)\n",
    "                a[j, i] = complex(r1, -r2)\n",
    "    return a\n",
    "\n",
    "\n",
    "op = create_hermitian_matrix(n)\n",
    "\n",
    "display(array_to_latex(op, prefix=r\"\\mathbf{\\hat{O}}=\"))"
   ]
  },
  {
   "cell_type": "code",
   "execution_count": 11,
   "id": "df5958db-3772-475b-9af0-e95d47c0409e",
   "metadata": {},
   "outputs": [
    {
     "data": {
      "text/latex": [
       "$$\n",
       "\\mathbf{\\lambda}=\n",
       "\\begin{bmatrix}\n",
       "2.4879 & -1.43854 & 1.16533 & 0.12646 & -0.37061  \\\\\n",
       " \\end{bmatrix}\n",
       "$$"
      ],
      "text/plain": [
       "<IPython.core.display.Latex object>"
      ]
     },
     "metadata": {},
     "output_type": "display_data"
    },
    {
     "data": {
      "text/latex": [
       "$$\n",
       "\\mathbf{v_0}=\n",
       "\\begin{bmatrix}\n",
       "0.36979 + 0.13457i & 0.39914 + 0.16416i & 0.55321 & 0.39655 - 0.23702i & 0.2773 - 0.25003i  \\\\\n",
       " \\end{bmatrix}\n",
       "$$"
      ],
      "text/plain": [
       "<IPython.core.display.Latex object>"
      ]
     },
     "metadata": {},
     "output_type": "display_data"
    },
    {
     "data": {
      "text/latex": [
       "$$\n",
       "\\mathbf{v_1}=\n",
       "\\begin{bmatrix}\n",
       "-0.32902 + 0.03836i & -0.47199 + 0.2125i & -0.03947 - 0.37891i & 0.10866 - 0.42801i & 0.53124  \\\\\n",
       " \\end{bmatrix}\n",
       "$$"
      ],
      "text/plain": [
       "<IPython.core.display.Latex object>"
      ]
     },
     "metadata": {},
     "output_type": "display_data"
    },
    {
     "data": {
      "text/latex": [
       "$$\n",
       "\\mathbf{v_2}=\n",
       "\\begin{bmatrix}\n",
       "0.47201 + 0.08671i & 0.03084 - 0.34943i & -0.36621 - 0.18556i & -0.0446 + 0.35702i & 0.59046  \\\\\n",
       " \\end{bmatrix}\n",
       "$$"
      ],
      "text/plain": [
       "<IPython.core.display.Latex object>"
      ]
     },
     "metadata": {},
     "output_type": "display_data"
    },
    {
     "data": {
      "text/latex": [
       "$$\n",
       "\\mathbf{v_3}=\n",
       "\\begin{bmatrix}\n",
       "-0.42698 + 0.32224i & 0.34654 - 0.27074i & -0.37472 - 0.14361i & 0.57146 & -0.11868 - 0.13701i  \\\\\n",
       " \\end{bmatrix}\n",
       "$$"
      ],
      "text/plain": [
       "<IPython.core.display.Latex object>"
      ]
     },
     "metadata": {},
     "output_type": "display_data"
    },
    {
     "data": {
      "text/latex": [
       "$$\n",
       "\\mathbf{v_4}=\n",
       "\\begin{bmatrix}\n",
       "-0.1716 - 0.43533i & 0.47892 & -0.25368 + 0.39358i & -0.10239 - 0.35365i & 0.34854 + 0.27457i  \\\\\n",
       " \\end{bmatrix}\n",
       "$$"
      ],
      "text/plain": [
       "<IPython.core.display.Latex object>"
      ]
     },
     "metadata": {},
     "output_type": "display_data"
    },
    {
     "data": {
      "text/latex": [
       "$\\displaystyle \\mathbf{\\langle\\phi\\lvert\\hat{O}\\lvert v_0\\rangle=\\langle\\phi\\lvert\\lambda_0\\lvert v_0\\rangle}\\;?\\;\\rightarrow\\;True$"
      ],
      "text/plain": [
       "<IPython.core.display.Math object>"
      ]
     },
     "metadata": {},
     "output_type": "display_data"
    },
    {
     "data": {
      "text/latex": [
       "$\\displaystyle \\mathbf{\\langle\\phi\\lvert\\hat{O}\\lvert v_1\\rangle=\\langle\\phi\\lvert\\lambda_1\\lvert v_1\\rangle}\\;?\\;\\rightarrow\\;True$"
      ],
      "text/plain": [
       "<IPython.core.display.Math object>"
      ]
     },
     "metadata": {},
     "output_type": "display_data"
    },
    {
     "data": {
      "text/latex": [
       "$\\displaystyle \\mathbf{\\langle\\phi\\lvert\\hat{O}\\lvert v_2\\rangle=\\langle\\phi\\lvert\\lambda_2\\lvert v_2\\rangle}\\;?\\;\\rightarrow\\;True$"
      ],
      "text/plain": [
       "<IPython.core.display.Math object>"
      ]
     },
     "metadata": {},
     "output_type": "display_data"
    },
    {
     "data": {
      "text/latex": [
       "$\\displaystyle \\mathbf{\\langle\\phi\\lvert\\hat{O}\\lvert v_3\\rangle=\\langle\\phi\\lvert\\lambda_3\\lvert v_3\\rangle}\\;?\\;\\rightarrow\\;True$"
      ],
      "text/plain": [
       "<IPython.core.display.Math object>"
      ]
     },
     "metadata": {},
     "output_type": "display_data"
    },
    {
     "data": {
      "text/latex": [
       "$\\displaystyle \\mathbf{\\langle\\phi\\lvert\\hat{O}\\lvert v_4\\rangle=\\langle\\phi\\lvert\\lambda_4\\lvert v_4\\rangle}\\;?\\;\\rightarrow\\;True$"
      ],
      "text/plain": [
       "<IPython.core.display.Math object>"
      ]
     },
     "metadata": {},
     "output_type": "display_data"
    }
   ],
   "source": [
    "# Cell 3 - A Hermitian operator applied to its eigenkets produce its eigenvalues\n",
    "\n",
    "# Built in function that returns two lists\n",
    "# First of the eigen values, second of the eigen vectors\n",
    "eigen_vals, eigen_vecs = np.linalg.eig(op)\n",
    "\n",
    "# Note: The eigenvalues of a Hermitian operator are all real\n",
    "display(\n",
    "    array_to_latex(\n",
    "        eigen_vals[:, np.newaxis].T,\n",
    "        prefix=r\"\\mathbf{\\lambda}=\",\n",
    "    )\n",
    ")\n",
    "\n",
    "# Note: In numpy, eigenvectors are returned as columns\n",
    "for i in range(n):\n",
    "    display(array_to_latex(eigen_vecs[:, i], prefix=rf\"\\mathbf{{v_{i}}}=\"))\n",
    "\n",
    "# Finding bra component of phi\n",
    "bra_phi = phi.conj().T\n",
    "\n",
    "# Showing that the identity on slide 70 is true\n",
    "for i in range(n):\n",
    "    # Reminder: np.dot() alters it's application based on the inputs\n",
    "    t1 = np.dot(bra_phi, np.dot(op, eigen_vecs[:, i]))\n",
    "    t2 = np.dot(bra_phi, eigen_vals[i] * eigen_vecs[:, i])\n",
    "    display(\n",
    "        Math(\n",
    "            rf\"\\mathbf{{\\langle\\phi\\lvert\\hat{{O}}\\lvert v_{i}\\rangle=\"\n",
    "            rf\"\\langle\\phi\\lvert\\lambda_{i}\\lvert v_{i}\\rangle}}\\;?\\;\\rightarrow\\;{np.isclose(t1,t2)}\"\n",
    "        )\n",
    "    )"
   ]
  },
  {
   "cell_type": "code",
   "execution_count": 4,
   "id": "8edf55a9-4b55-4293-986c-eb7a5287b940",
   "metadata": {},
   "outputs": [
    {
     "data": {
      "text/latex": [
       "$\\displaystyle \\mathbf{v_0\\cdot v_1}\\;=\\;0j$"
      ],
      "text/plain": [
       "<IPython.core.display.Math object>"
      ]
     },
     "metadata": {},
     "output_type": "display_data"
    },
    {
     "data": {
      "text/latex": [
       "$\\displaystyle \\mathbf{v_0\\cdot v_2}\\;=\\;-0j$"
      ],
      "text/plain": [
       "<IPython.core.display.Math object>"
      ]
     },
     "metadata": {},
     "output_type": "display_data"
    },
    {
     "data": {
      "text/latex": [
       "$\\displaystyle \\mathbf{v_0\\cdot v_3}\\;=\\;(-0-0j)$"
      ],
      "text/plain": [
       "<IPython.core.display.Math object>"
      ]
     },
     "metadata": {},
     "output_type": "display_data"
    },
    {
     "data": {
      "text/latex": [
       "$\\displaystyle \\mathbf{v_0\\cdot v_4}\\;=\\;(-0-0j)$"
      ],
      "text/plain": [
       "<IPython.core.display.Math object>"
      ]
     },
     "metadata": {},
     "output_type": "display_data"
    },
    {
     "data": {
      "text/latex": [
       "$\\displaystyle \\mathbf{v_1\\cdot v_2}\\;=\\;0j$"
      ],
      "text/plain": [
       "<IPython.core.display.Math object>"
      ]
     },
     "metadata": {},
     "output_type": "display_data"
    },
    {
     "data": {
      "text/latex": [
       "$\\displaystyle \\mathbf{v_1\\cdot v_3}\\;=\\;-0j$"
      ],
      "text/plain": [
       "<IPython.core.display.Math object>"
      ]
     },
     "metadata": {},
     "output_type": "display_data"
    },
    {
     "data": {
      "text/latex": [
       "$\\displaystyle \\mathbf{v_1\\cdot v_4}\\;=\\;0j$"
      ],
      "text/plain": [
       "<IPython.core.display.Math object>"
      ]
     },
     "metadata": {},
     "output_type": "display_data"
    },
    {
     "data": {
      "text/latex": [
       "$\\displaystyle \\mathbf{v_2\\cdot v_3}\\;=\\;-0j$"
      ],
      "text/plain": [
       "<IPython.core.display.Math object>"
      ]
     },
     "metadata": {},
     "output_type": "display_data"
    },
    {
     "data": {
      "text/latex": [
       "$\\displaystyle \\mathbf{v_2\\cdot v_4}\\;=\\;(-0-0j)$"
      ],
      "text/plain": [
       "<IPython.core.display.Math object>"
      ]
     },
     "metadata": {},
     "output_type": "display_data"
    },
    {
     "data": {
      "text/latex": [
       "$\\displaystyle \\mathbf{v_3\\cdot v_4}\\;=\\;(-0-0j)$"
      ],
      "text/plain": [
       "<IPython.core.display.Math object>"
      ]
     },
     "metadata": {},
     "output_type": "display_data"
    }
   ],
   "source": [
    "# Cell 4 - All non-degenerate eigenvectors\n",
    "# of a Hermitian operator are orthogonal to each other\n",
    "\n",
    "#i.e. their dot products will be zero\n",
    "\n",
    "for i in range(n):\n",
    "    for j in range(i + 1, n):\n",
    "        display(\n",
    "            Math(\n",
    "                rf\"\\mathbf{{v_{i}\\cdot v_{j}}}\\;=\\;\"\n",
    "                rf\"{np.dot(eigen_vecs[:,i].conj(),eigen_vecs[:,j]).round(4)}\"\n",
    "            )\n",
    "        )"
   ]
  },
  {
   "cell_type": "code",
   "execution_count": 5,
   "id": "4d97b44e-45d1-4470-8d36-151a64c56392",
   "metadata": {},
   "outputs": [
    {
     "data": {
      "text/latex": [
       "$$\n",
       "\\mathbf{\\hat{O}}=\n",
       "\\begin{bmatrix}\n",
       "4 & -2  \\\\\n",
       " -2 & 4  \\\\\n",
       " \\end{bmatrix}\n",
       "$$"
      ],
      "text/plain": [
       "<IPython.core.display.Latex object>"
      ]
     },
     "metadata": {},
     "output_type": "display_data"
    },
    {
     "data": {
      "text/latex": [
       "$$\n",
       "\\mathbf{\\epsilon}=\n",
       "\\begin{bmatrix}\n",
       "\\tfrac{1}{\\sqrt{2}} & \\tfrac{1}{\\sqrt{2}}  \\\\\n",
       " -\\tfrac{1}{\\sqrt{2}} & \\tfrac{1}{\\sqrt{2}}  \\\\\n",
       " \\end{bmatrix}\n",
       "$$"
      ],
      "text/plain": [
       "<IPython.core.display.Latex object>"
      ]
     },
     "metadata": {},
     "output_type": "display_data"
    },
    {
     "data": {
      "text/latex": [
       "$$\n",
       "\\mathbf{O}=\n",
       "\\begin{bmatrix}\n",
       "2 & 0  \\\\\n",
       " 0 & 6  \\\\\n",
       " \\end{bmatrix}\n",
       "$$"
      ],
      "text/plain": [
       "<IPython.core.display.Latex object>"
      ]
     },
     "metadata": {},
     "output_type": "display_data"
    },
    {
     "data": {
      "text/latex": [
       "$$\n",
       "\\mathbf{\\lambda}=\n",
       "\\begin{bmatrix}\n",
       "6 & 2  \\\\\n",
       " \\end{bmatrix}\n",
       "$$"
      ],
      "text/plain": [
       "<IPython.core.display.Latex object>"
      ]
     },
     "metadata": {},
     "output_type": "display_data"
    }
   ],
   "source": [
    "# Cell 5 - Get Matrix From Operator in a given basis\n",
    "\n",
    "\n",
    "def get_matrix_from_operator(op, basis):\n",
    "    m = np.zeros_like(op)\n",
    "    # np.ndenumerate takes a matrix and returns each element's index and value\n",
    "    for i, _ in np.ndenumerate(op):\n",
    "        row, col = i\n",
    "        # \"Operator sandwhich\" See slide 83\n",
    "        # Applying the operator to ket manually and then taking the inner product\n",
    "        t1 = np.dot(basis[row].conj().T, op @ basis[col])\n",
    "        m[row, col] = t1\n",
    "    return m\n",
    "\n",
    "\n",
    "# Create a Hermitian operator matrix\n",
    "op = np.array([[4, -2], [-2, 4]], dtype=complex)\n",
    "\n",
    "# Get the eigenvalues and eigenvectors for the operator\n",
    "eigen_vals, eigen_vecs = np.linalg.eig(op)\n",
    "\n",
    "# Get the operator's components using its eigenvectors as its basis\n",
    "m = get_matrix_from_operator(op, eigen_vecs)\n",
    "\n",
    "display(array_to_latex(op, prefix=r\"\\mathbf{\\hat{O}}=\"))\n",
    "display(array_to_latex(eigen_vecs, prefix=r\"\\mathbf{\\epsilon}=\"))\n",
    "display(array_to_latex(m, prefix=r\"\\mathbf{O}=\"))\n",
    "display(\n",
    "    array_to_latex(\n",
    "        eigen_vals[:, np.newaxis].T,\n",
    "        prefix=r\"\\mathbf{\\lambda}=\",\n",
    "    )\n",
    ")"
   ]
  },
  {
   "cell_type": "code",
   "execution_count": 6,
   "id": "6d941f08-fea4-4ea0-9cf1-634ae602d6b6",
   "metadata": {},
   "outputs": [
    {
     "data": {
      "text/latex": [
       "$$\n",
       "\\mathbf{\\Omega_1}=\n",
       "\\begin{bmatrix}\n",
       "0.26129 & 0.72711 + 0.14506i & 0.39107 + 0.03004i  \\\\\n",
       " 0.72711 - 0.14506i & 0.77762 & 0.755 + 0.02793i  \\\\\n",
       " 0.39107 - 0.03004i & 0.755 - 0.02793i & 0.54113  \\\\\n",
       " \\end{bmatrix}\n",
       "$$"
      ],
      "text/plain": [
       "<IPython.core.display.Latex object>"
      ]
     },
     "metadata": {},
     "output_type": "display_data"
    },
    {
     "data": {
      "text/latex": [
       "$$\n",
       "\\mathbf{\\Omega_2}=\n",
       "\\begin{bmatrix}\n",
       "0.64271 & 0.55655 + 0.18728i & 0.31385 + 0.91334i  \\\\\n",
       " 0.55655 - 0.18728i & 0.85507 & 0.63653 + 0.81532i  \\\\\n",
       " 0.31385 - 0.91334i & 0.63653 - 0.81532i & 0.18241  \\\\\n",
       " \\end{bmatrix}\n",
       "$$"
      ],
      "text/plain": [
       "<IPython.core.display.Latex object>"
      ]
     },
     "metadata": {},
     "output_type": "display_data"
    },
    {
     "data": {
      "text/latex": [
       "$$\n",
       "\\mathbf{[\\Omega_1,\\Omega_2]}=\n",
       "\\begin{bmatrix}\n",
       "-0.80639i & -0.122 - 1.04643i & -0.33824 + 0.25881i  \\\\\n",
       " 0.122 - 1.04643i & -1.0847i & -0.21991 + 0.84912i  \\\\\n",
       " 0.33824 + 0.25881i & 0.21991 + 0.84912i & 1.89109i  \\\\\n",
       " \\end{bmatrix}\n",
       "$$"
      ],
      "text/plain": [
       "<IPython.core.display.Latex object>"
      ]
     },
     "metadata": {},
     "output_type": "display_data"
    },
    {
     "data": {
      "text/latex": [
       "$\\displaystyle \\mathbf{\\Omega_1}\\;\\text{and}\\;\\mathbf{\\Omega_2}\\;\\text{commute}\\;?\\;\\rightarrow\\;False$"
      ],
      "text/plain": [
       "<IPython.core.display.Math object>"
      ]
     },
     "metadata": {},
     "output_type": "display_data"
    }
   ],
   "source": [
    "# Cell 6 - Calculate the Commutator\n",
    "\n",
    "n = 3\n",
    "omega_1 = create_hermitian_matrix(n)\n",
    "omega_2 = create_hermitian_matrix(n)\n",
    "\n",
    "# Definition of the commutator\n",
    "commutator = np.dot(omega_1, omega_2) - np.dot(omega_2, omega_1)\n",
    "\n",
    "display(array_to_latex(omega_1, prefix=r\"\\mathbf{\\Omega_1}=\"))\n",
    "display(array_to_latex(omega_2, prefix=r\"\\mathbf{\\Omega_2}=\"))\n",
    "\n",
    "display(array_to_latex(commutator, prefix=r\"\\mathbf{[\\Omega_1,\\Omega_2]}=\"))\n",
    "display(\n",
    "    Math(\n",
    "        rf\"\\mathbf{{\\Omega_1}}\\;\\text{{and}}\\;\\mathbf{{\\Omega_2}}\\;\"\n",
    "        # Checking to see if all values are zero (To see if they commute)\n",
    "        rf\"\\text{{commute}}\\;?\\;\\rightarrow\\;{np.isclose(commutator,0).all()}\"\n",
    "    )\n",
    ")"
   ]
  },
  {
   "cell_type": "code",
   "execution_count": 12,
   "id": "4fcce813-9d1a-4d37-a997-504fb9dcc5f6",
   "metadata": {},
   "outputs": [
    {
     "data": {
      "text/latex": [
       "$$\n",
       "\\mathbf{\\Omega_1}=\n",
       "\\begin{bmatrix}\n",
       "0.26129 + 0.00895i & 0 & 0 & 0 & 0  \\\\\n",
       " 0 & 0.72711 + 0.14506i & 0 & 0 & 0  \\\\\n",
       " 0 & 0 & 0.39107 + 0.03004i & 0 & 0  \\\\\n",
       " 0 & 0 & 0 & 0.77762 + 0.77184i & 0  \\\\\n",
       " 0 & 0 & 0 & 0 & 0.755 + 0.02793i  \\\\\n",
       " \\end{bmatrix}\n",
       "$$"
      ],
      "text/plain": [
       "<IPython.core.display.Latex object>"
      ]
     },
     "metadata": {},
     "output_type": "display_data"
    },
    {
     "data": {
      "text/latex": [
       "$$\n",
       "\\mathbf{\\Omega_2}=\n",
       "\\begin{bmatrix}\n",
       "0.54113 + 0.05956i & 0 & 0 & 0 & 0  \\\\\n",
       " 0 & 0.64271 + 0.63236i & 0 & 0 & 0  \\\\\n",
       " 0 & 0 & 0.55655 + 0.18728i & 0 & 0  \\\\\n",
       " 0 & 0 & 0 & 0.31385 + 0.91334i & 0  \\\\\n",
       " 0 & 0 & 0 & 0 & 0.85507 + 0.14502i  \\\\\n",
       " \\end{bmatrix}\n",
       "$$"
      ],
      "text/plain": [
       "<IPython.core.display.Latex object>"
      ]
     },
     "metadata": {},
     "output_type": "display_data"
    },
    {
     "data": {
      "text/latex": [
       "$$\n",
       "\\mathbf{[\\Omega_1,\\Omega_2]}=\n",
       "\\begin{bmatrix}\n",
       "0 & 0 & 0 & 0 & 0  \\\\\n",
       " 0 & 0 & 0 & 0 & 0  \\\\\n",
       " 0 & 0 & 0 & 0 & 0  \\\\\n",
       " 0 & 0 & 0 & 0 & 0  \\\\\n",
       " 0 & 0 & 0 & 0 & 0  \\\\\n",
       " \\end{bmatrix}\n",
       "$$"
      ],
      "text/plain": [
       "<IPython.core.display.Latex object>"
      ]
     },
     "metadata": {},
     "output_type": "display_data"
    },
    {
     "data": {
      "text/latex": [
       "$\\displaystyle \\mathbf{\\Omega_1}\\;\\text{and}\\;\\mathbf{\\Omega_2}\\;\\text{commute}\\;?\\;\\rightarrow\\;True$"
      ],
      "text/plain": [
       "<IPython.core.display.Math object>"
      ]
     },
     "metadata": {},
     "output_type": "display_data"
    }
   ],
   "source": [
    "# Cell 7 - All diagonal matrices commute with each other\n",
    "\n",
    "\n",
    "def create_diagonal_matrix(n):\n",
    "    # Similar process to create random diagonal matrices\n",
    "    a = np.zeros((n, n), dtype=complex)\n",
    "    for i in range(n):\n",
    "        r1 = np.random.random()\n",
    "        r2 = np.random.random()\n",
    "        a[i, i] = complex(r1, r2)\n",
    "    return a\n",
    "\n",
    "omega_1 = create_diagonal_matrix(n)\n",
    "omega_2 = create_diagonal_matrix(n)\n",
    "\n",
    "# Seeing if they commute\n",
    "commutator = np.dot(omega_1, omega_2) - np.dot(omega_2, omega_1)\n",
    "\n",
    "display(array_to_latex(omega_1, prefix=r\"\\mathbf{\\Omega_1}=\"))\n",
    "display(array_to_latex(omega_2, prefix=r\"\\mathbf{\\Omega_2}=\"))\n",
    "\n",
    "display(array_to_latex(commutator, prefix=r\"\\mathbf{[\\Omega_1,\\Omega_2]}=\"))\n",
    "display(\n",
    "    Math(\n",
    "        rf\"\\mathbf{{\\Omega_1}}\\;\\text{{and}}\\;\\mathbf{{\\Omega_2}}\\;\"\n",
    "        rf\"\\text{{commute}}\\;?\\;\\rightarrow\\;{np.isclose(commutator,0).all()}\"\n",
    "    )\n",
    ")"
   ]
  },
  {
   "cell_type": "code",
   "execution_count": null,
   "id": "048aed60-4a6c-416b-a305-3a7b1a79327b",
   "metadata": {},
   "outputs": [],
   "source": []
  }
 ],
 "metadata": {
  "kernelspec": {
   "display_name": "Python 3 (ipykernel)",
   "language": "python",
   "name": "python3"
  },
  "language_info": {
   "codemirror_mode": {
    "name": "ipython",
    "version": 3
   },
   "file_extension": ".py",
   "mimetype": "text/x-python",
   "name": "python",
   "nbconvert_exporter": "python",
   "pygments_lexer": "ipython3",
   "version": "3.10.4"
  }
 },
 "nbformat": 4,
 "nbformat_minor": 5
}
