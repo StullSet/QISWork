{
 "cells": [
  {
   "cell_type": "code",
   "execution_count": 1,
   "id": "74658c0f-37c7-4784-acdf-0988262bde37",
   "metadata": {},
   "outputs": [
    {
     "data": {
      "text/latex": [
       "$$\n",
       "\\mathbf{F}=\n",
       "\\begin{bmatrix}\n",
       "1 & 0  \\\\\n",
       " \\end{bmatrix}\n",
       "$$"
      ],
      "text/plain": [
       "<IPython.core.display.Latex object>"
      ]
     },
     "metadata": {},
     "output_type": "display_data"
    },
    {
     "data": {
      "text/latex": [
       "$$\n",
       "\\mathbf{T}=\n",
       "\\begin{bmatrix}\n",
       "0 & 1  \\\\\n",
       " \\end{bmatrix}\n",
       "$$"
      ],
      "text/plain": [
       "<IPython.core.display.Latex object>"
      ]
     },
     "metadata": {},
     "output_type": "display_data"
    },
    {
     "data": {
      "text/latex": [
       "$$\n",
       "\\mathbf{NOT}=\n",
       "\\begin{bmatrix}\n",
       "0 & 1  \\\\\n",
       " 1 & 0  \\\\\n",
       " \\end{bmatrix}\n",
       "$$"
      ],
      "text/plain": [
       "<IPython.core.display.Latex object>"
      ]
     },
     "metadata": {},
     "output_type": "display_data"
    },
    {
     "data": {
      "text/latex": [
       "$$\n",
       "\\mathbf{AND}=\n",
       "\\begin{bmatrix}\n",
       "1 & 1 & 1 & 0  \\\\\n",
       " 0 & 0 & 0 & 1  \\\\\n",
       " \\end{bmatrix}\n",
       "$$"
      ],
      "text/plain": [
       "<IPython.core.display.Latex object>"
      ]
     },
     "metadata": {},
     "output_type": "display_data"
    },
    {
     "data": {
      "text/latex": [
       "$$\n",
       "\\mathbf{OR}=\n",
       "\\begin{bmatrix}\n",
       "1 & 0 & 0 & 0  \\\\\n",
       " 0 & 1 & 1 & 1  \\\\\n",
       " \\end{bmatrix}\n",
       "$$"
      ],
      "text/plain": [
       "<IPython.core.display.Latex object>"
      ]
     },
     "metadata": {},
     "output_type": "display_data"
    }
   ],
   "source": [
    "# majority_vote.ipynb\n",
    "\n",
    "# Cell 1 - Create classical bits and Boolean gates\n",
    "\n",
    "import numpy as np\n",
    "from IPython.display import Math\n",
    "from qiskit.visualization import array_to_latex\n",
    "\n",
    "f = np.array([1, 0])\n",
    "t = np.array([0, 1])\n",
    "\n",
    "g_not = np.array([[0, 1], [1, 0]])\n",
    "g_and = np.array([[1, 1, 1, 0], [0, 0, 0, 1]])\n",
    "g_or = np.array([[1, 0, 0, 0], [0, 1, 1, 1]])\n",
    "\n",
    "display(array_to_latex(f, prefix=r\"\\mathbf{F}=\"))\n",
    "display(array_to_latex(t, prefix=r\"\\mathbf{T}=\"))\n",
    "\n",
    "display(array_to_latex(g_not, prefix=r\"\\mathbf{NOT}=\"))\n",
    "display(array_to_latex(g_and, prefix=r\"\\mathbf{AND}=\"))\n",
    "display(array_to_latex(g_or, prefix=r\"\\mathbf{OR}=\"))"
   ]
  },
  {
   "cell_type": "code",
   "execution_count": 2,
   "id": "fb399832-c48d-4e37-a88f-e5e13617cc30",
   "metadata": {},
   "outputs": [],
   "source": [
    "# Cell 2 - Implement Boolean circuit using matrix algebra\n",
    "\n",
    "def circuit(a, b, c):\n",
    "    g1 = np.dot(g_and, np.kron(a, b))\n",
    "    g2 = np.dot(g_and, np.kron(b, c))\n",
    "    g3 = np.dot(g_and, np.kron(a, c))\n",
    "    g4 = np.dot(g_or, np.kron(g1, g2))\n",
    "    g5 = np.dot(g_or, np.kron(g3, g4))\n",
    "    return g5"
   ]
  },
  {
   "cell_type": "code",
   "execution_count": 3,
   "id": "d82c154f-2de8-4ff7-ba15-16b84b6d3280",
   "metadata": {},
   "outputs": [
    {
     "name": "stdout",
     "output_type": "stream",
     "text": [
      "a: [1 0]  b: [1 0]  c: [1 0]  v: [1 0]\n",
      "a: [1 0]  b: [1 0]  c: [0 1]  v: [1 0]\n",
      "a: [1 0]  b: [0 1]  c: [1 0]  v: [1 0]\n",
      "a: [1 0]  b: [0 1]  c: [0 1]  v: [0 1]\n",
      "a: [0 1]  b: [1 0]  c: [1 0]  v: [1 0]\n",
      "a: [0 1]  b: [1 0]  c: [0 1]  v: [0 1]\n",
      "a: [0 1]  b: [0 1]  c: [1 0]  v: [0 1]\n",
      "a: [0 1]  b: [0 1]  c: [0 1]  v: [0 1]\n"
     ]
    }
   ],
   "source": [
    "# Cell 3 - Create truth table for three inputs and show the output\n",
    "\n",
    "for a in [f, t]:\n",
    "    for b in [f, t]:\n",
    "        for c in [f, t]:\n",
    "            print(f\"a: {a}\", end=\"  \")\n",
    "            print(f\"b: {b}\", end=\"  \")\n",
    "            print(f\"c: {c}\", end=\"  \")\n",
    "            print(f\"v: {circuit(a, b, c)}\")"
   ]
  },
  {
   "cell_type": "code",
   "execution_count": null,
   "id": "a99aa706-3516-41f0-87a2-a88448c14f3c",
   "metadata": {},
   "outputs": [],
   "source": []
  }
 ],
 "metadata": {
  "kernelspec": {
   "display_name": "Python 3 (ipykernel)",
   "language": "python",
   "name": "python3"
  },
  "language_info": {
   "codemirror_mode": {
    "name": "ipython",
    "version": 3
   },
   "file_extension": ".py",
   "mimetype": "text/x-python",
   "name": "python",
   "nbconvert_exporter": "python",
   "pygments_lexer": "ipython3",
   "version": "3.10.4"
  }
 },
 "nbformat": 4,
 "nbformat_minor": 5
}
